{
 "cells": [
  {
   "cell_type": "markdown",
   "metadata": {},
   "source": [
    "# Irony Detection in English Tweets"
   ]
  },
  {
   "cell_type": "markdown",
   "metadata": {},
   "source": [
    "* João Dossena - UP201800174\n",
    "* João Rosário - UP201806334\n",
    "* João Sousa - UP201806613\n",
    "\n",
    "MIEIC, Class 8, Group 14"
   ]
  },
  {
   "cell_type": "markdown",
   "metadata": {},
   "source": [
    "## Project Specification"
   ]
  },
  {
   "cell_type": "markdown",
   "metadata": {},
   "source": [
    "The project is made up of two subtasks.\n",
    "In the first one the objective is the detection of irony given a tweet in English, marking it out either with a value of 0 or 1 if irony is absent or not, respectively.\n",
    "In the second subtask the goal is to classify the type of irony into 4 classes:\n",
    "1. verbal irony realized through a polarity contrast\n",
    "2. verbal irony without such a polarity contrast (i.e., other verbal irony)\n",
    "3. descriptions of situational irony\n",
    "4. non-irony\n",
    "\n",
    "The datasets provided consisted of a set of entries where the first column was the tweet index, the second one was the label (either 0 or 1, or 0, 1, 2 or 3 depending on the task) in the case of the training data or the tweet text which corresponds to the third column in the training datasets."
   ]
  },
  {
   "cell_type": "markdown",
   "metadata": {},
   "source": [
    "## Required Libraries\n",
    "\n",
    "* pandas\n",
    "* sklearn\n",
    "* re\n",
    "* nltk\n",
    "* imblearn\n",
    "* time\n",
    "* seaborn\n",
    "* matplotlib\n",
    "* numpy"
   ]
  },
  {
   "cell_type": "markdown",
   "metadata": {},
   "source": [
    "# Task A"
   ]
  },
  {
   "cell_type": "markdown",
   "metadata": {},
   "source": [
    "## Exploratory Data Analysis"
   ]
  },
  {
   "cell_type": "code",
   "execution_count": 1,
   "metadata": {},
   "outputs": [],
   "source": [
    "import pandas as pd\n",
    "import numpy as np\n",
    "import seaborn as sns #visualisation\n",
    "import matplotlib.pyplot as plt #visualisation\n",
    "%matplotlib inline \n",
    "sns.set(color_codes=True)"
   ]
  },
  {
   "cell_type": "code",
   "execution_count": 2,
   "metadata": {},
   "outputs": [],
   "source": [
    "# Get data from file\n",
    "def readData(path_train, path_test):\n",
    "    df = pd.read_csv(path_train, sep=\"\\t\")\n",
    "    test_df = pd.read_csv(path_test, sep=\"\\t\")\n",
    "    print(\"Data Read Successfully\")\n",
    "    return (df, test_df)"
   ]
  },
  {
   "cell_type": "code",
   "execution_count": 3,
   "metadata": {},
   "outputs": [
    {
     "name": "stdout",
     "output_type": "stream",
     "text": [
      "Data Read Successfully\n"
     ]
    }
   ],
   "source": [
    "(train_df, test_df) = readData(\"../datasets/train/train-taskA.txt\", \"../datasets/test/gold_test_taskA.txt\")"
   ]
  },
  {
   "cell_type": "code",
   "execution_count": 4,
   "metadata": {},
   "outputs": [
    {
     "data": {
      "text/plain": [
       "(3817, 3)"
      ]
     },
     "execution_count": 4,
     "metadata": {},
     "output_type": "execute_result"
    }
   ],
   "source": [
    "train_df.shape"
   ]
  },
  {
   "cell_type": "code",
   "execution_count": 5,
   "metadata": {},
   "outputs": [
    {
     "data": {
      "text/plain": [
       "(784, 3)"
      ]
     },
     "execution_count": 5,
     "metadata": {},
     "output_type": "execute_result"
    }
   ],
   "source": [
    "test_df.shape"
   ]
  },
  {
   "cell_type": "code",
   "execution_count": 6,
   "metadata": {},
   "outputs": [
    {
     "data": {
      "text/html": [
       "<div>\n",
       "<style scoped>\n",
       "    .dataframe tbody tr th:only-of-type {\n",
       "        vertical-align: middle;\n",
       "    }\n",
       "\n",
       "    .dataframe tbody tr th {\n",
       "        vertical-align: top;\n",
       "    }\n",
       "\n",
       "    .dataframe thead th {\n",
       "        text-align: right;\n",
       "    }\n",
       "</style>\n",
       "<table border=\"1\" class=\"dataframe\">\n",
       "  <thead>\n",
       "    <tr style=\"text-align: right;\">\n",
       "      <th></th>\n",
       "      <th>Tweet index</th>\n",
       "      <th>Label</th>\n",
       "      <th>Tweet text</th>\n",
       "    </tr>\n",
       "  </thead>\n",
       "  <tbody>\n",
       "    <tr>\n",
       "      <th>0</th>\n",
       "      <td>1</td>\n",
       "      <td>1</td>\n",
       "      <td>Sweet United Nations video. Just in time for C...</td>\n",
       "    </tr>\n",
       "    <tr>\n",
       "      <th>1</th>\n",
       "      <td>2</td>\n",
       "      <td>1</td>\n",
       "      <td>@mrdahl87 We are rumored to have talked to Erv...</td>\n",
       "    </tr>\n",
       "    <tr>\n",
       "      <th>2</th>\n",
       "      <td>3</td>\n",
       "      <td>1</td>\n",
       "      <td>Hey there! Nice to see you Minnesota/ND Winter...</td>\n",
       "    </tr>\n",
       "    <tr>\n",
       "      <th>3</th>\n",
       "      <td>4</td>\n",
       "      <td>0</td>\n",
       "      <td>3 episodes left I'm dying over here</td>\n",
       "    </tr>\n",
       "    <tr>\n",
       "      <th>4</th>\n",
       "      <td>5</td>\n",
       "      <td>1</td>\n",
       "      <td>I can't breathe! was chosen as the most notabl...</td>\n",
       "    </tr>\n",
       "  </tbody>\n",
       "</table>\n",
       "</div>"
      ],
      "text/plain": [
       "   Tweet index  Label                                         Tweet text\n",
       "0            1      1  Sweet United Nations video. Just in time for C...\n",
       "1            2      1  @mrdahl87 We are rumored to have talked to Erv...\n",
       "2            3      1  Hey there! Nice to see you Minnesota/ND Winter...\n",
       "3            4      0                3 episodes left I'm dying over here\n",
       "4            5      1  I can't breathe! was chosen as the most notabl..."
      ]
     },
     "execution_count": 6,
     "metadata": {},
     "output_type": "execute_result"
    }
   ],
   "source": [
    "# checking if data was actually read correctly\n",
    "train_df.head()"
   ]
  },
  {
   "cell_type": "code",
   "execution_count": 7,
   "metadata": {},
   "outputs": [
    {
     "data": {
      "text/plain": [
       "Tweet index    0\n",
       "Label          0\n",
       "Tweet text     0\n",
       "dtype: int64"
      ]
     },
     "execution_count": 7,
     "metadata": {},
     "output_type": "execute_result"
    }
   ],
   "source": [
    "# checking if there are any null values present in the dataset\n",
    "train_df.isnull().sum()"
   ]
  },
  {
   "cell_type": "code",
   "execution_count": 8,
   "metadata": {},
   "outputs": [
    {
     "name": "stdout",
     "output_type": "stream",
     "text": [
      "Label\n",
      "0    1916\n",
      "1    1901\n",
      "Name: Tweet text, dtype: int64\n"
     ]
    },
    {
     "data": {
      "image/png": "[encoded data removed]",
      "text/plain": [
       "<Figure size 432x288 with 1 Axes>"
      ]
     },
     "metadata": {},
     "output_type": "display_data"
    }
   ],
   "source": [
    "print(train_df.groupby('Label')['Tweet text'].count())\n",
    "train_df.groupby('Label')['Tweet text'].count().plot.bar(ylim=0)\n",
    "plt.show()"
   ]
  },
  {
   "cell_type": "markdown",
   "metadata": {},
   "source": [
    "The data appears to be balanced. There isn't a significant difference between the number of entries per label. Therefore over/undersampling doesn't seem to be needed."
   ]
  },
  {
   "cell_type": "markdown",
   "metadata": {},
   "source": [
    "## Text processing"
   ]
  },
  {
   "cell_type": "code",
   "execution_count": 9,
   "metadata": {},
   "outputs": [],
   "source": [
    "import re\n",
    "import nltk\n",
    "from nltk.stem.porter import PorterStemmer\n",
    "from nltk.stem.lancaster import LancasterStemmer\n",
    "from nltk.stem import WordNetLemmatizer\n",
    "from nltk.corpus import stopwords\n",
    "import numpy as np\n",
    "from nltk.tokenize import word_tokenize\n",
    "from nltk import pos_tag\n",
    "from nltk.corpus import stopwords\n",
    "from nltk.stem import WordNetLemmatizer\n",
    "from sklearn.preprocessing import LabelEncoder\n",
    "from collections import defaultdict\n",
    "from nltk.corpus import wordnet as wn\n",
    "from sklearn.feature_extraction.text import TfidfVectorizer\n",
    "from sklearn import model_selection, naive_bayes, svm\n",
    "from sklearn.metrics import accuracy_score\n",
    "\n",
    "\n",
    "def processing(Corpus):\n",
    "    # Step - a : Remove blank rows if any.\n",
    "    Corpus['Tweet text'].dropna(inplace=True)\n",
    "    \n",
    "    # Step - b : Change all the text to lower case. This is required as python interprets 'dog' and 'DOG' differently\n",
    "    Corpus['Tweet text'] = [entry.lower() for entry in Corpus['Tweet text']]\n",
    "    \n",
    "    # Step - c : @Usernames and links removed / Tokenization : each entry in the corpus will be broken into set of words\n",
    "    Corpus['Tweet text'] = [re.sub('@[a-zA-Z0-9_]+|https?://t.co/[a-zA-Z0-9_]+|[^a-zA-Z]', ' ', entry) for entry in Corpus['Tweet text']]\n",
    "    Corpus['Tweet text']= [word_tokenize(entry) for entry in Corpus['Tweet text']]\n",
    "    \n",
    "    # Step - d : Remove Stop words, Non-Numeric and perfom Word Stemming/Lemmenting.\n",
    "    # WordNetLemmatizer requires Pos tags to understand if the word is noun or verb or adjective etc. By default it is set to Noun\n",
    "    tag_map = defaultdict(lambda : wn.NOUN)\n",
    "    tag_map['J'] = wn.ADJ\n",
    "    tag_map['V'] = wn.VERB\n",
    "    tag_map['R'] = wn.ADV\n",
    "    for index,entry in enumerate(Corpus['Tweet text']):\n",
    "        \n",
    "        # Declaring Empty List to store the words that follow the rules for this step\n",
    "        Final_words = []\n",
    "        \n",
    "        # Initializing WordNetLemmatizer()\n",
    "        word_Lemmatized = WordNetLemmatizer()\n",
    "        \n",
    "        # pos_tag function below will provide the 'tag' i.e if the word is Noun(N) or Verb(V) or something else.\n",
    "        for word, tag in pos_tag(entry):\n",
    "            # Below condition is to check for Stop words and consider only alphabets\n",
    "            if word not in stopwords.words('english') and word.isalpha():\n",
    "                word_Final = word_Lemmatized.lemmatize(word,tag_map[tag[0]])\n",
    "                Final_words.append(word_Final)\n",
    "        # The final processed set of words for each iteration will be stored in 'text_final'\n",
    "        Corpus.loc[index,'text_final'] = str(Final_words)\n",
    "    \n",
    "    print(\"Processed df\")\n",
    "    return Corpus\n",
    "\n",
    "def processing_2(df):\n",
    "    stemmer = LancasterStemmer()\n",
    "    corpus = []\n",
    "    for i in range(len(df)):\n",
    "        \n",
    "        # get tweet and remove usernames (@username) and links to pictures (https://t.co/link)\n",
    "        tweet = re.sub('@[a-zA-Z0-9_]+|https?://t.co/[a-zA-Z0-9_]+|[^a-zA-Z]', ' ', df['Tweet text'][i])\n",
    "\n",
    "        # to lower-case and tokenize\n",
    "        tweet = tweet.lower().split()\n",
    "\n",
    "        # Stemming and stop word removal\n",
    "        stemmed_tweet = ' '.join([stemmer.stem(w) for w in tweet if not w in set(stopwords.words('english'))])\n",
    "        corpus.append(stemmed_tweet)\n",
    "    \n",
    "    print(\"Processed df\")\n",
    "    return corpus"
   ]
  },
  {
   "cell_type": "code",
   "execution_count": 10,
   "metadata": {},
   "outputs": [
    {
     "name": "stdout",
     "output_type": "stream",
     "text": [
      "Processed df\n",
      "Processed df\n",
      "Processed df\n",
      "Processed df\n"
     ]
    }
   ],
   "source": [
    "# train and test processing\n",
    "corpus_2 = processing_2(train_df)\n",
    "test_corpus_2 = processing_2(test_df)\n",
    "\n",
    "corpus = processing(train_df)\n",
    "test_corpus = processing(test_df)"
   ]
  },
  {
   "cell_type": "code",
   "execution_count": 11,
   "metadata": {},
   "outputs": [],
   "source": [
    "from sklearn.feature_extraction.text import CountVectorizer\n",
    "\n",
    "# Create bag-of-words model\n",
    "def bagOfWords(df, corpus):\n",
    "    vectorizer = CountVectorizer(max_features = 1500) # original = 1500\n",
    "    X = vectorizer.fit_transform(corpus).toarray()\n",
    "    y = df.iloc[:,1].values\n",
    "\n",
    "    return (X, y)"
   ]
  },
  {
   "cell_type": "code",
   "execution_count": 12,
   "metadata": {},
   "outputs": [],
   "source": [
    "# Function that displays the confusion matrix\n",
    "def plot_conf_matrix(Test_Y, y_pred):\n",
    "    conf_matrix = confusion_matrix(y_true=Test_Y, y_pred=y_pred)\n",
    "    fig, ax = plt.subplots(figsize=(7.5, 7.5))\n",
    "    ax.matshow(conf_matrix, cmap=plt.cm.Blues, alpha=0.3)\n",
    "    for i in range(conf_matrix.shape[0]):\n",
    "        for j in range(conf_matrix.shape[1]):\n",
    "            ax.text(x=j, y=i,s=conf_matrix[i, j], va='center', ha='center', size='xx-large')\n",
    "    plt.xlabel('Predictions', fontsize=18)\n",
    "    plt.ylabel('Actuals', fontsize=18)\n",
    "    plt.title('Confusion Matrix', fontsize=18)\n",
    "    plt.show()"
   ]
  },
  {
   "cell_type": "code",
   "execution_count": 13,
   "metadata": {},
   "outputs": [],
   "source": [
    "Train_X = corpus['text_final']\n",
    "Train_Y = corpus.iloc[:,1].values\n",
    "\n",
    "Test_X = test_corpus['text_final']\n",
    "Test_Y = test_corpus.iloc[:,1].values\n",
    "\n",
    "\n",
    "(Train_X_2, Train_Y_2) = bagOfWords(train_df, corpus_2)\n",
    "(Test_X_2, Test_Y_2) = bagOfWords(test_df, test_corpus_2)"
   ]
  },
  {
   "cell_type": "code",
   "execution_count": 14,
   "metadata": {},
   "outputs": [
    {
     "name": "stdout",
     "output_type": "stream",
     "text": [
      "TfidfVectorizer max_features=5000\n"
     ]
    }
   ],
   "source": [
    "# Word Vectorization\n",
    "print(\"TfidfVectorizer max_features=5000\")\n",
    "Tfidf_vect = TfidfVectorizer(max_features=5000)\n",
    "Tfidf_vect.fit(corpus['text_final'])\n",
    "Train_X_Tfidf = Tfidf_vect.transform(Train_X)\n",
    "Test_X_Tfidf = Tfidf_vect.transform(Test_X)"
   ]
  },
  {
   "cell_type": "markdown",
   "metadata": {},
   "source": [
    "## Algorithms and Parameter Tuning"
   ]
  },
  {
   "cell_type": "code",
   "execution_count": 15,
   "metadata": {},
   "outputs": [],
   "source": [
    "from sklearn.metrics import confusion_matrix\n",
    "from sklearn.metrics import accuracy_score\n",
    "from sklearn.metrics import precision_score\n",
    "from sklearn.metrics import recall_score\n",
    "from sklearn.metrics import f1_score\n",
    "\n",
    "from sklearn.metrics import classification_report\n",
    "from sklearn.model_selection import GridSearchCV\n",
    "\n",
    "import time"
   ]
  },
  {
   "cell_type": "markdown",
   "metadata": {},
   "source": [
    "### Support Vector Machines"
   ]
  },
  {
   "cell_type": "code",
   "execution_count": 16,
   "metadata": {},
   "outputs": [],
   "source": [
    "from sklearn.svm import SVC"
   ]
  },
  {
   "cell_type": "code",
   "execution_count": 17,
   "metadata": {},
   "outputs": [],
   "source": [
    "# SVM default\n",
    "def svm_default(X_train, X_test, y_train, y_test):\n",
    "    \n",
    "    print(\"SVM (default parameters)\")\n",
    "    classifier = SVC()\n",
    "    return svm(classifier, X_train, X_test, y_train, y_test)\n",
    "\n",
    "# SVM optimized (using parameter found by findSVC - function ahead)\n",
    "def svm_optimized(X_train, X_test, y_train, y_test):\n",
    "    \n",
    "    print(\"SVM ('C': 1, 'kernel': 'sigmoid')\")\n",
    "    classifier = SVC(C=1, kernel='sigmoid')\n",
    "    return svm(classifier, X_train, X_test, y_train, y_test)\n",
    "    \n",
    "\n",
    "# SVM\n",
    "def svm(classifier, X_train, X_test, y_train, y_test):\n",
    "    \n",
    "    time_0 = time.time()\n",
    "    classifier.fit(X_train, y_train)\n",
    "    training_time = str(round(time.time()-time_0,3))\n",
    "    \n",
    "    time_1 = time.time()\n",
    "    y_pred = classifier.predict(X_test)\n",
    "    predict_time = str(round(time.time()-time_1,3))\n",
    "    \n",
    "    print(\"Training Time (seconds): \" + training_time)\n",
    "    print(\"Predict Time (seconds): \" + predict_time)\n",
    "    \n",
    "    print(classification_report(y_test, y_pred))\n",
    "    \n",
    "    plot_conf_matrix(Test_Y, y_pred)\n",
    "    \n",
    "    return (classification_report(y_test, y_pred, output_dict=True), training_time, predict_time, y_test, y_pred)"
   ]
  },
  {
   "cell_type": "code",
   "execution_count": 18,
   "metadata": {
    "scrolled": false
   },
   "outputs": [
    {
     "name": "stdout",
     "output_type": "stream",
     "text": [
      "SVM ('C': 1, 'kernel': 'sigmoid')\n",
      "Training Time (seconds): 0.734\n",
      "Predict Time (seconds): 0.108\n",
      "              precision    recall  f1-score   support\n",
      "\n",
      "           0       0.72      0.64      0.67       473\n",
      "           1       0.53      0.61      0.57       311\n",
      "\n",
      "    accuracy                           0.63       784\n",
      "   macro avg       0.62      0.63      0.62       784\n",
      "weighted avg       0.64      0.63      0.63       784\n",
      "\n"
     ]
    },
    {
     "data": {
      "image/png": "[encoded data removed]",
      "text/plain": [
       "<Figure size 540x540 with 1 Axes>"
      ]
     },
     "metadata": {},
     "output_type": "display_data"
    },
    {
     "name": "stdout",
     "output_type": "stream",
     "text": [
      "\n",
      "-----\n",
      "\n",
      "SVM (default parameters)\n",
      "Training Time (seconds): 0.837\n",
      "Predict Time (seconds): 0.148\n",
      "              precision    recall  f1-score   support\n",
      "\n",
      "           0       0.71      0.68      0.70       473\n",
      "           1       0.55      0.58      0.56       311\n",
      "\n",
      "    accuracy                           0.64       784\n",
      "   macro avg       0.63      0.63      0.63       784\n",
      "weighted avg       0.65      0.64      0.64       784\n",
      "\n"
     ]
    },
    {
     "data": {
      "image/png": "[encoded data removed]",
      "text/plain": [
       "<Figure size 540x540 with 1 Axes>"
      ]
     },
     "metadata": {},
     "output_type": "display_data"
    }
   ],
   "source": [
    "# Using Lemmatization / Word Vectorization\n",
    "(svc_optimized, svc_optimized_train_time, svc_optimized_predict_time, svc_optimized_y_test, svc_optimized_y_pred) = svm_optimized(Train_X_Tfidf, Test_X_Tfidf, Train_Y, Test_Y)\n",
    "print(\"\\n-----\\n\")\n",
    "(svc_for_graph, svc_train_time, svc_predict_time, svc_y_test, svc_y_pred) = svm_default(Train_X_Tfidf, Test_X_Tfidf, Train_Y, Test_Y)"
   ]
  },
  {
   "cell_type": "code",
   "execution_count": 19,
   "metadata": {},
   "outputs": [
    {
     "name": "stdout",
     "output_type": "stream",
     "text": [
      "SVM ('C': 1, 'kernel': 'sigmoid')\n",
      "Training Time (seconds): 8.429\n",
      "Predict Time (seconds): 1.527\n",
      "              precision    recall  f1-score   support\n",
      "\n",
      "           0       0.58      0.65      0.61       473\n",
      "           1       0.35      0.29      0.32       311\n",
      "\n",
      "    accuracy                           0.51       784\n",
      "   macro avg       0.47      0.47      0.47       784\n",
      "weighted avg       0.49      0.51      0.50       784\n",
      "\n"
     ]
    },
    {
     "data": {
      "image/png": "[encoded data removed]",
      "text/plain": [
       "<Figure size 540x540 with 1 Axes>"
      ]
     },
     "metadata": {},
     "output_type": "display_data"
    },
    {
     "name": "stdout",
     "output_type": "stream",
     "text": [
      "\n",
      "-----\n",
      "\n",
      "SVM (default parameters)\n",
      "Training Time (seconds): 9.718\n",
      "Predict Time (seconds): 2.729\n",
      "              precision    recall  f1-score   support\n",
      "\n",
      "           0       0.59      0.77      0.66       473\n",
      "           1       0.34      0.18      0.23       311\n",
      "\n",
      "    accuracy                           0.53       784\n",
      "   macro avg       0.46      0.47      0.45       784\n",
      "weighted avg       0.49      0.53      0.49       784\n",
      "\n"
     ]
    },
    {
     "data": {
      "image/png": "[encoded data removed]",
      "text/plain": [
       "<Figure size 540x540 with 1 Axes>"
      ]
     },
     "metadata": {},
     "output_type": "display_data"
    }
   ],
   "source": [
    "# Using Stemming / Bag-of-words\n",
    "(svc_optimized, svc_optimized_train_time, svc_optimized_predict_time, svc_optimized_y_test, svc_optimized_y_pred) = svm_optimized(Train_X_2, Test_X_2, Train_Y_2, Test_Y_2)\n",
    "print(\"\\n-----\\n\")\n",
    "(svc_for_graph, svc_train_time, svc_predict_time, svc_y_test, svc_y_pred) = svm_default(Train_X_2, Test_X_2, Train_Y_2, Test_Y_2)"
   ]
  },
  {
   "cell_type": "code",
   "execution_count": 20,
   "metadata": {},
   "outputs": [],
   "source": [
    "# Using GridSearch to try to find the best parameters\n",
    "def findSVC(X_train, X_test, y_train, y_test):\n",
    "\n",
    "    tuned_parameters = {'kernel': ['linear', 'poly', 'sigmoid'],\n",
    "                        'C': [0.5, 1.0, 2.0]\n",
    "                    }\n",
    "\n",
    "    clf = GridSearchCV(SVC(), tuned_parameters, n_jobs=-1, cv=3)\n",
    "    clf.fit(X_train, y_train)\n",
    "\n",
    "    print('Best parameters found:\\n', clf.best_params_)\n",
    "\n",
    "    means = clf.cv_results_['mean_test_score']\n",
    "    stds = clf.cv_results_['std_test_score']\n",
    "    for mean, std, params in zip(means, stds, clf.cv_results_['params']):\n",
    "        print(\"%0.3f (+/-%0.03f) for %r\" % (mean, std * 2, params))\n",
    "\n",
    "    y_true, y_pred = y_test , clf.predict(X_test)\n",
    "\n",
    "    print('Results on the test set:')\n",
    "    print(classification_report(y_true, y_pred))\n",
    "    \n",
    "    return classification_report(y_test, y_pred, output_dict=True)"
   ]
  },
  {
   "cell_type": "code",
   "execution_count": 21,
   "metadata": {
    "scrolled": true
   },
   "outputs": [
    {
     "name": "stdout",
     "output_type": "stream",
     "text": [
      "Best parameters found:\n",
      " {'C': 1.0, 'kernel': 'sigmoid'}\n",
      "0.612 (+/-0.029) for {'C': 0.5, 'kernel': 'linear'}\n",
      "0.511 (+/-0.008) for {'C': 0.5, 'kernel': 'poly'}\n",
      "0.611 (+/-0.026) for {'C': 0.5, 'kernel': 'sigmoid'}\n",
      "0.610 (+/-0.042) for {'C': 1.0, 'kernel': 'linear'}\n",
      "0.596 (+/-0.024) for {'C': 1.0, 'kernel': 'poly'}\n",
      "0.613 (+/-0.037) for {'C': 1.0, 'kernel': 'sigmoid'}\n",
      "0.602 (+/-0.036) for {'C': 2.0, 'kernel': 'linear'}\n",
      "0.595 (+/-0.014) for {'C': 2.0, 'kernel': 'poly'}\n",
      "0.597 (+/-0.036) for {'C': 2.0, 'kernel': 'sigmoid'}\n",
      "Results on the test set:\n",
      "              precision    recall  f1-score   support\n",
      "\n",
      "           0       0.72      0.64      0.67       473\n",
      "           1       0.53      0.61      0.57       311\n",
      "\n",
      "    accuracy                           0.63       784\n",
      "   macro avg       0.62      0.63      0.62       784\n",
      "weighted avg       0.64      0.63      0.63       784\n",
      "\n"
     ]
    }
   ],
   "source": [
    "svc_tunning_for_graph = findSVC(Train_X_Tfidf, Test_X_Tfidf, Train_Y, Test_Y)"
   ]
  },
  {
   "cell_type": "markdown",
   "metadata": {},
   "source": [
    "### Linear Model - Perceptron"
   ]
  },
  {
   "cell_type": "code",
   "execution_count": 22,
   "metadata": {},
   "outputs": [],
   "source": [
    "from sklearn.linear_model import Perceptron\n",
    "\n",
    "# Perceptron\n",
    "def perceptron(X_train, X_test, y_train, y_test):\n",
    "    classifier = Perceptron()\n",
    "    \n",
    "    time_0 = time.time()\n",
    "    classifier.fit(X_train, y_train)\n",
    "    training_time = str(round(time.time()-time_0,5))\n",
    "    \n",
    "    time_1 = time.time()\n",
    "    y_pred = classifier.predict(X_test)\n",
    "    \n",
    "    predict_time = str(round(time.time()-time_1,5))\n",
    "    \n",
    "    print(\"Training Time (seconds): \" + training_time)\n",
    "    print(\"Predict Time (seconds): \" + predict_time)\n",
    "\n",
    "    print(classification_report(y_test, y_pred))\n",
    "    \n",
    "    plot_conf_matrix(Test_Y, y_pred)\n",
    "    \n",
    "    return (classification_report(y_test, y_pred, output_dict=True), training_time, predict_time, y_test, y_pred)"
   ]
  },
  {
   "cell_type": "code",
   "execution_count": 23,
   "metadata": {
    "scrolled": false
   },
   "outputs": [
    {
     "name": "stdout",
     "output_type": "stream",
     "text": [
      "Training Time (seconds): 0.01\n",
      "Predict Time (seconds): 0.0\n",
      "              precision    recall  f1-score   support\n",
      "\n",
      "           0       0.69      0.62      0.65       473\n",
      "           1       0.50      0.59      0.54       311\n",
      "\n",
      "    accuracy                           0.60       784\n",
      "   macro avg       0.60      0.60      0.60       784\n",
      "weighted avg       0.62      0.60      0.61       784\n",
      "\n"
     ]
    },
    {
     "data": {
      "image/png": "[encoded data removed]",
      "text/plain": [
       "<Figure size 540x540 with 1 Axes>"
      ]
     },
     "metadata": {},
     "output_type": "display_data"
    }
   ],
   "source": [
    "(perceptron_default_for_graph, perceptron_train_time, perceptron_predict_time, perceptron_y_test, perceptron_y_pred) = perceptron(Train_X_Tfidf, Test_X_Tfidf, Train_Y, Test_Y)"
   ]
  },
  {
   "cell_type": "code",
   "execution_count": 24,
   "metadata": {},
   "outputs": [],
   "source": [
    "def findPerceptron(X_train, X_test, y_train, y_test):\n",
    "    \n",
    "    parameter_space = {\n",
    "        'penalty': ['l2', 'l1', 'elasticnet'],\n",
    "        'alpha': [0.05, 0.0001],\n",
    "        'max_iter': [100, 200, 500, 1000, 2000],\n",
    "    }\n",
    "\n",
    "    clf = GridSearchCV(Perceptron(), parameter_space, n_jobs=-1, cv=3)\n",
    "    clf.fit(X_train, y_train)\n",
    "\n",
    "    # Best paramete set\n",
    "    print('Best parameters found:\\n', clf.best_params_)\n",
    "\n",
    "    # All results\n",
    "    means = clf.cv_results_['mean_test_score']\n",
    "    stds = clf.cv_results_['std_test_score']\n",
    "    for mean, std, params in zip(means, stds, clf.cv_results_['params']):\n",
    "        print(\"%0.3f (+/-%0.03f) for %r\" % (mean, std * 2, params))\n",
    "\n",
    "    y_true, y_pred = y_test , clf.predict(X_test)\n",
    "\n",
    "    print('Results on the test set:')\n",
    "    print(classification_report(y_true, y_pred))\n",
    "    \n",
    "    return classification_report(y_test, y_pred, output_dict=True)"
   ]
  },
  {
   "cell_type": "code",
   "execution_count": 25,
   "metadata": {
    "scrolled": true
   },
   "outputs": [
    {
     "name": "stdout",
     "output_type": "stream",
     "text": [
      "Best parameters found:\n",
      " {'alpha': 0.0001, 'max_iter': 100, 'penalty': 'elasticnet'}\n",
      "0.495 (+/-0.019) for {'alpha': 0.05, 'max_iter': 100, 'penalty': 'l2'}\n",
      "0.500 (+/-0.004) for {'alpha': 0.05, 'max_iter': 100, 'penalty': 'l1'}\n",
      "0.500 (+/-0.004) for {'alpha': 0.05, 'max_iter': 100, 'penalty': 'elasticnet'}\n",
      "0.495 (+/-0.019) for {'alpha': 0.05, 'max_iter': 200, 'penalty': 'l2'}\n",
      "0.500 (+/-0.004) for {'alpha': 0.05, 'max_iter': 200, 'penalty': 'l1'}\n",
      "0.500 (+/-0.004) for {'alpha': 0.05, 'max_iter': 200, 'penalty': 'elasticnet'}\n",
      "0.495 (+/-0.019) for {'alpha': 0.05, 'max_iter': 500, 'penalty': 'l2'}\n",
      "0.500 (+/-0.004) for {'alpha': 0.05, 'max_iter': 500, 'penalty': 'l1'}\n",
      "0.500 (+/-0.004) for {'alpha': 0.05, 'max_iter': 500, 'penalty': 'elasticnet'}\n",
      "0.495 (+/-0.019) for {'alpha': 0.05, 'max_iter': 1000, 'penalty': 'l2'}\n",
      "0.500 (+/-0.004) for {'alpha': 0.05, 'max_iter': 1000, 'penalty': 'l1'}\n",
      "0.500 (+/-0.004) for {'alpha': 0.05, 'max_iter': 1000, 'penalty': 'elasticnet'}\n",
      "0.495 (+/-0.019) for {'alpha': 0.05, 'max_iter': 2000, 'penalty': 'l2'}\n",
      "0.500 (+/-0.004) for {'alpha': 0.05, 'max_iter': 2000, 'penalty': 'l1'}\n",
      "0.500 (+/-0.004) for {'alpha': 0.05, 'max_iter': 2000, 'penalty': 'elasticnet'}\n",
      "0.578 (+/-0.012) for {'alpha': 0.0001, 'max_iter': 100, 'penalty': 'l2'}\n",
      "0.570 (+/-0.032) for {'alpha': 0.0001, 'max_iter': 100, 'penalty': 'l1'}\n",
      "0.581 (+/-0.029) for {'alpha': 0.0001, 'max_iter': 100, 'penalty': 'elasticnet'}\n",
      "0.578 (+/-0.012) for {'alpha': 0.0001, 'max_iter': 200, 'penalty': 'l2'}\n",
      "0.570 (+/-0.032) for {'alpha': 0.0001, 'max_iter': 200, 'penalty': 'l1'}\n",
      "0.581 (+/-0.029) for {'alpha': 0.0001, 'max_iter': 200, 'penalty': 'elasticnet'}\n",
      "0.578 (+/-0.012) for {'alpha': 0.0001, 'max_iter': 500, 'penalty': 'l2'}\n",
      "0.570 (+/-0.032) for {'alpha': 0.0001, 'max_iter': 500, 'penalty': 'l1'}\n",
      "0.581 (+/-0.029) for {'alpha': 0.0001, 'max_iter': 500, 'penalty': 'elasticnet'}\n",
      "0.578 (+/-0.012) for {'alpha': 0.0001, 'max_iter': 1000, 'penalty': 'l2'}\n",
      "0.570 (+/-0.032) for {'alpha': 0.0001, 'max_iter': 1000, 'penalty': 'l1'}\n",
      "0.581 (+/-0.029) for {'alpha': 0.0001, 'max_iter': 1000, 'penalty': 'elasticnet'}\n",
      "0.578 (+/-0.012) for {'alpha': 0.0001, 'max_iter': 2000, 'penalty': 'l2'}\n",
      "0.570 (+/-0.032) for {'alpha': 0.0001, 'max_iter': 2000, 'penalty': 'l1'}\n",
      "0.581 (+/-0.029) for {'alpha': 0.0001, 'max_iter': 2000, 'penalty': 'elasticnet'}\n",
      "Results on the test set:\n",
      "              precision    recall  f1-score   support\n",
      "\n",
      "           0       0.74      0.51      0.60       473\n",
      "           1       0.49      0.72      0.59       311\n",
      "\n",
      "    accuracy                           0.60       784\n",
      "   macro avg       0.62      0.62      0.60       784\n",
      "weighted avg       0.64      0.60      0.60       784\n",
      "\n"
     ]
    }
   ],
   "source": [
    "perceptron_tunning_for_graph = findPerceptron(Train_X_Tfidf, Test_X_Tfidf, Train_Y, Test_Y)"
   ]
  },
  {
   "cell_type": "markdown",
   "metadata": {},
   "source": [
    "### Neural Networks"
   ]
  },
  {
   "cell_type": "code",
   "execution_count": 26,
   "metadata": {},
   "outputs": [],
   "source": [
    "from sklearn.neural_network import MLPClassifier"
   ]
  },
  {
   "cell_type": "code",
   "execution_count": 27,
   "metadata": {},
   "outputs": [],
   "source": [
    "# Multi Layered Perceptron\n",
    "def mlp(X_train, X_test, y_train, y_test):\n",
    "    \n",
    "    classifier = MLPClassifier()\n",
    "    time_0 = time.time()\n",
    "    classifier.fit(X_train, y_train)\n",
    "    training_time = str(round(time.time()-time_0,5))\n",
    "    \n",
    "    time_1 = time.time()\n",
    "    y_pred = classifier.predict(X_test)\n",
    "    predict_time = str(round(time.time()-time_1,5))\n",
    "    \n",
    "    print(\"Training Time (seconds): \" + training_time)\n",
    "    print(\"Predict Time (seconds): \" + predict_time)\n",
    "    \n",
    "    print(classification_report(y_test, y_pred))\n",
    "    \n",
    "    plot_conf_matrix(Test_Y, y_pred)\n",
    "    \n",
    "    return (classification_report(y_test, y_pred, output_dict=True), training_time, predict_time, y_test, y_pred)"
   ]
  },
  {
   "cell_type": "code",
   "execution_count": 28,
   "metadata": {},
   "outputs": [
    {
     "name": "stdout",
     "output_type": "stream",
     "text": [
      "Training Time (seconds): 64.54635\n",
      "Predict Time (seconds): 0.001\n",
      "              precision    recall  f1-score   support\n",
      "\n",
      "           0       0.72      0.61      0.66       473\n",
      "           1       0.52      0.64      0.57       311\n",
      "\n",
      "    accuracy                           0.62       784\n",
      "   macro avg       0.62      0.62      0.62       784\n",
      "weighted avg       0.64      0.62      0.62       784\n",
      "\n"
     ]
    },
    {
     "data": {
      "image/png": "[encoded data removed]",
      "text/plain": [
       "<Figure size 540x540 with 1 Axes>"
      ]
     },
     "metadata": {},
     "output_type": "display_data"
    }
   ],
   "source": [
    "(mlp_default_for_graph, mlp_train_time, mlp_predict_time, mlp_y_test, mlp_y_pred) = mlp(Train_X_Tfidf, Test_X_Tfidf, Train_Y, Test_Y)"
   ]
  },
  {
   "cell_type": "code",
   "execution_count": 29,
   "metadata": {},
   "outputs": [],
   "source": [
    "# Finding the best parameters for MLP\n",
    "def findMlp(X_train, X_test, y_train, y_test):\n",
    "    \n",
    "    parameter_space = {\n",
    "        'hidden_layer_sizes': [(20,20), (50,50), (50,50,50), (10,10), (100)],\n",
    "        'activation': ['identity', 'logistic', 'tanh', 'relu'],\n",
    "        'solver': ['sgd'],\n",
    "        'alpha': [0.05, 0.0001],\n",
    "        'learning_rate': ['constant', 'invscaling', 'adaptive'],\n",
    "        'max_iter': [100, 200, 500],\n",
    "    }\n",
    "\n",
    "    clf = GridSearchCV(MLPClassifier(), parameter_space, n_jobs=-1, cv=3)\n",
    "    clf.fit(X_train, y_train)\n",
    "\n",
    "    # Best paramete set\n",
    "    print('Best parameters found:\\n', clf.best_params_)\n",
    "\n",
    "    # All results\n",
    "    means = clf.cv_results_['mean_test_score']\n",
    "    stds = clf.cv_results_['std_test_score']\n",
    "    for mean, std, params in zip(means, stds, clf.cv_results_['params']):\n",
    "        print(\"%0.3f (+/-%0.03f) for %r\" % (mean, std * 2, params))\n",
    "\n",
    "    y_true, y_pred = y_test , clf.predict(X_test)\n",
    "\n",
    "    print('Results on the test set:')\n",
    "    print(classification_report(y_true, y_pred))\n",
    "    \n",
    "    return classification_report(y_test, y_pred, output_dict=True)"
   ]
  },
  {
   "cell_type": "code",
   "execution_count": null,
   "metadata": {
    "scrolled": true
   },
   "outputs": [],
   "source": [
    "mlp_tunning_for_graph = findMlp(Train_X_Tfidf, Test_X_Tfidf, Train_Y, Test_Y)"
   ]
  },
  {
   "cell_type": "markdown",
   "metadata": {},
   "source": [
    "### Comparisons between Algorithms"
   ]
  },
  {
   "cell_type": "code",
   "execution_count": null,
   "metadata": {},
   "outputs": [],
   "source": [
    "import matplotlib.patches as mpatches"
   ]
  },
  {
   "cell_type": "code",
   "execution_count": null,
   "metadata": {},
   "outputs": [],
   "source": [
    "data = [\n",
    "            [svc_for_graph['accuracy'], perceptron_default_for_graph['accuracy'], mlp_default_for_graph['accuracy']],\n",
    "            [svc_tunning_for_graph['accuracy'], perceptron_tunning_for_graph['accuracy'], mlp_tunning_for_graph['accuracy']]\n",
    "       ]\n",
    "\n",
    "X = np.arange(3)\n",
    "fig = plt.figure()\n",
    "ax = fig.add_axes([0,0,1.5,1.5])\n",
    "ax.bar(X + 0.0, data[0], color = '#3275a8', width = 0.25, tick_label=['SVM', 'Perceptron', 'MLP'])\n",
    "ax.bar(X + 0.25, data[1], color = '#258f3c', width = 0.25)\n",
    "\n",
    "plt.xticks([0.125,1.125,2.125], ['SVM', 'Perceptron', 'MLP'])\n",
    "\n",
    "default_patch = mpatches.Patch(color='#3275a8', label='Default Algorithm')\n",
    "tunned_patch = mpatches.Patch(color='#258f3c', label='GridSearch Tuned')\n",
    "plt.legend(handles=[default_patch, tunned_patch], bbox_to_anchor=(1.05, 1), loc='upper left', borderaxespad=0.)\n",
    "\n",
    "plt.xlabel(\"Algorithm\")\n",
    "plt.ylabel(\"Accuracy\")\n",
    "plt.title(\"Accuracy obtained by each algorithm\")\n",
    "\n",
    "print()"
   ]
  },
  {
   "cell_type": "code",
   "execution_count": null,
   "metadata": {
    "scrolled": false
   },
   "outputs": [],
   "source": [
    "data = [\n",
    "            [float(svc_train_time), float(perceptron_train_time), float(mlp_train_time)]\n",
    "       ]\n",
    "\n",
    "X = np.arange(3)\n",
    "fig = plt.figure()\n",
    "ax = fig.add_axes([0,0,1.5,1.5])\n",
    "ax.bar(X, data[0], color = '#3275a8', width = 0.25, tick_label=['SVM', 'Perceptron', 'MLP'])\n",
    "\n",
    "default_patch = mpatches.Patch(color='#3275a8', label='Time')\n",
    "plt.legend(handles=[default_patch], bbox_to_anchor=(1.05, 1), loc='upper left', borderaxespad=0.)\n",
    "\n",
    "plt.xlabel(\"Algorithm\")\n",
    "plt.ylabel(\"Training Time (s)\")\n",
    "plt.title(\"Training Time for each algorithm\")\n",
    "\n",
    "print()"
   ]
  },
  {
   "cell_type": "code",
   "execution_count": null,
   "metadata": {
    "scrolled": false
   },
   "outputs": [],
   "source": [
    "data = [\n",
    "            [float(svc_predict_time), float(perceptron_predict_time), float(mlp_predict_time)]\n",
    "       ]\n",
    "\n",
    "X = np.arange(3)\n",
    "fig = plt.figure()\n",
    "ax = fig.add_axes([0,0,1.5,1.5])\n",
    "ax.bar(X, data[0], color = '#3275a8', width = 0.25, tick_label=['SVM', 'Perceptron', 'MLP'])\n",
    "\n",
    "default_patch = mpatches.Patch(color='#3275a8', label='Time')\n",
    "plt.legend(handles=[default_patch], bbox_to_anchor=(1.05, 1), loc='upper left', borderaxespad=0.)\n",
    "\n",
    "plt.xlabel(\"Algorithm\")\n",
    "plt.ylabel(\"Prediction Time (s)\")\n",
    "plt.title(\"Prediction Time for each algorithm\")\n",
    "\n",
    "print()"
   ]
  },
  {
   "cell_type": "code",
   "execution_count": null,
   "metadata": {},
   "outputs": [],
   "source": [
    "data = [\n",
    "            [accuracy_score(svc_y_test, svc_y_pred), accuracy_score(perceptron_y_test, perceptron_y_pred), accuracy_score(mlp_y_test, mlp_y_pred)],\n",
    "            [precision_score(svc_y_test, svc_y_pred), precision_score(perceptron_y_test, perceptron_y_pred), precision_score(mlp_y_test, mlp_y_pred)],\n",
    "            [recall_score(svc_y_test, svc_y_pred), recall_score(perceptron_y_test, perceptron_y_pred), recall_score(mlp_y_test, mlp_y_pred)],\n",
    "            [f1_score(svc_y_test, svc_y_pred), f1_score(perceptron_y_test, perceptron_y_pred), f1_score(mlp_y_test, mlp_y_pred)]\n",
    "       ]\n",
    "\n",
    "X = np.arange(3)\n",
    "fig = plt.figure()\n",
    "ax = fig.add_axes([0,0,1.5,1.5])\n",
    "ax.bar(X + 0.0, data[0], color = '#3275a8', width = 0.2)\n",
    "ax.bar(X + 0.2, data[1], color = '#258f3c', width = 0.2)\n",
    "ax.bar(X + 0.40, data[2], color = '#d1682c', width = 0.2)\n",
    "ax.bar(X + 0.6, data[3], color = '#9fd12c', width = 0.2)\n",
    "\n",
    "plt.xticks([0.25,1.25,2.25], ['SVM', 'Perceptron', 'MLP'])\n",
    "\n",
    "default_patch = mpatches.Patch(color='#3275a8', label='Accuracy')\n",
    "tunned_patch = mpatches.Patch(color='#258f3c', label='Precision')\n",
    "tunned_patch_2 = mpatches.Patch(color='#d1682c', label='Recall')\n",
    "tunned_patch_3 = mpatches.Patch(color='#9fd12c', label='F1')\n",
    "plt.legend(handles=[default_patch, tunned_patch, tunned_patch_2, tunned_patch_3], bbox_to_anchor=(1.05, 1), loc='upper left', borderaxespad=0.)\n",
    "\n",
    "plt.xlabel(\"Algorithm\")\n",
    "plt.ylabel(\"Score\")\n",
    "plt.title(\"Scores obtained by each algorithm\")\n",
    "\n",
    "print()"
   ]
  },
  {
   "cell_type": "markdown",
   "metadata": {},
   "source": [
    "# Task B"
   ]
  },
  {
   "cell_type": "markdown",
   "metadata": {},
   "source": [
    "## Exploratory Data Analysis"
   ]
  },
  {
   "cell_type": "code",
   "execution_count": null,
   "metadata": {},
   "outputs": [],
   "source": [
    "(train_df, test_df) = readData(\"../datasets/train/train-taskB.txt\", \"../datasets/test/gold_test_taskB.txt\")"
   ]
  },
  {
   "cell_type": "code",
   "execution_count": null,
   "metadata": {},
   "outputs": [],
   "source": [
    "train_df.shape"
   ]
  },
  {
   "cell_type": "code",
   "execution_count": null,
   "metadata": {},
   "outputs": [],
   "source": [
    "test_df.shape"
   ]
  },
  {
   "cell_type": "code",
   "execution_count": null,
   "metadata": {},
   "outputs": [],
   "source": [
    "train_df.head()"
   ]
  },
  {
   "cell_type": "code",
   "execution_count": null,
   "metadata": {},
   "outputs": [],
   "source": [
    "# checking if there are any null values present in the dataset\n",
    "train_df.isnull().sum()"
   ]
  },
  {
   "cell_type": "code",
   "execution_count": null,
   "metadata": {},
   "outputs": [],
   "source": [
    "train_df.groupby('Label')['Tweet text'].count()\n",
    "train_df.groupby('Label')['Tweet text'].count().plot.bar(ylim=0)\n",
    "plt.show()"
   ]
  },
  {
   "cell_type": "markdown",
   "metadata": {},
   "source": [
    "There isn't an uniform number of entries across all possible labels. The dataset is unbalanced. Therefore, we will try under/oversampling."
   ]
  },
  {
   "cell_type": "markdown",
   "metadata": {},
   "source": [
    "## Text Processing"
   ]
  },
  {
   "cell_type": "code",
   "execution_count": null,
   "metadata": {},
   "outputs": [],
   "source": [
    "def processing(Corpus):\n",
    "    # Step - a : Remove blank rows if any.\n",
    "    Corpus['Tweet text'].dropna(inplace=True)\n",
    "    \n",
    "    # Step - b : Change all the text to lower case. This is required as python interprets 'dog' and 'DOG' differently\n",
    "    Corpus['Tweet text'] = [entry.lower() for entry in Corpus['Tweet text']]\n",
    "    \n",
    "    # Step - c : Remove usernames / links / Tokenization : In this each entry in the corpus will be broken into set of words\n",
    "    Corpus['Tweet text'] = [re.sub('@[a-zA-Z0-9_]+|https?://t.co/[a-zA-Z0-9_]+|[^a-zA-Z]', ' ', entry) for entry in Corpus['Tweet text']]\n",
    "    Corpus['Tweet text']= [word_tokenize(entry) for entry in Corpus['Tweet text']]\n",
    "    \n",
    "    # Step - d : Remove Stop words, Non-Numeric and perfom Word Stemming/Lemmenting.# WordNetLemmatizer requires Pos tags to understand if the word is noun or verb or adjective etc. By default it is set to Noun\n",
    "    tag_map = defaultdict(lambda : wn.NOUN)\n",
    "    tag_map['J'] = wn.ADJ\n",
    "    tag_map['V'] = wn.VERB\n",
    "    tag_map['R'] = wn.ADV\n",
    "    for index,entry in enumerate(Corpus['Tweet text']):\n",
    "        \n",
    "        # Declaring Empty List to store the words that follow the rules for this step\n",
    "        Final_words = []\n",
    "        \n",
    "        # Initializing WordNetLemmatizer()\n",
    "        word_Lemmatized = WordNetLemmatizer()\n",
    "        \n",
    "        # pos_tag function below will provide the 'tag' i.e if the word is Noun(N) or Verb(V) or something else.\n",
    "        for word, tag in pos_tag(entry):\n",
    "            # Below condition is to check for Stop words and consider only alphabets\n",
    "            if word not in stopwords.words('english') and word.isalpha():\n",
    "                word_Final = word_Lemmatized.lemmatize(word,tag_map[tag[0]])\n",
    "                Final_words.append(word_Final)\n",
    "        # The final processed set of words for each iteration will be stored in 'text_final'\n",
    "        Corpus.loc[index,'text_final'] = str(Final_words)\n",
    "    \n",
    "    print(\"Processed\")\n",
    "    return Corpus"
   ]
  },
  {
   "cell_type": "code",
   "execution_count": null,
   "metadata": {},
   "outputs": [],
   "source": [
    "corpus = processing(train_df)\n",
    "test_corpus = processing(test_df)"
   ]
  },
  {
   "cell_type": "code",
   "execution_count": null,
   "metadata": {},
   "outputs": [],
   "source": [
    "from imblearn.under_sampling import RandomUnderSampler\n",
    "from imblearn.over_sampling import RandomOverSampler\n",
    "from imblearn.over_sampling import SMOTE\n",
    "from collections import Counter\n",
    "from matplotlib import pyplot"
   ]
  },
  {
   "cell_type": "code",
   "execution_count": null,
   "metadata": {},
   "outputs": [],
   "source": [
    "def smote(X_train, y_train):\n",
    "\n",
    "    sm = SMOTE()\n",
    "    X_train, y_train = sm.fit_resample(X_train, y_train)\n",
    "\n",
    "    return (X_train, y_train)"
   ]
  },
  {
   "cell_type": "code",
   "execution_count": null,
   "metadata": {},
   "outputs": [],
   "source": [
    "Train_X = corpus['text_final']\n",
    "Train_Y = corpus.iloc[:,1].values\n",
    "\n",
    "Test_X = test_corpus['text_final']\n",
    "Test_Y = test_corpus.iloc[:,1].values"
   ]
  },
  {
   "cell_type": "code",
   "execution_count": null,
   "metadata": {},
   "outputs": [],
   "source": [
    "# Word Vectorization\n",
    "print(\"TfidfVectorizer max_features=5000\")\n",
    "Tfidf_vect = TfidfVectorizer(max_features=5000)\n",
    "Tfidf_vect.fit(corpus['text_final'])\n",
    "Train_X_Tfidf = Tfidf_vect.transform(Train_X)\n",
    "Test_X_Tfidf = Tfidf_vect.transform(Test_X)"
   ]
  },
  {
   "cell_type": "code",
   "execution_count": null,
   "metadata": {},
   "outputs": [],
   "source": [
    "# Oversampling - Random Over Sampler\n",
    "oversample = RandomOverSampler(sampling_strategy='all')\n",
    "(Train_X_Tfidf_RandOS, Train_Y_RandOS) = oversample.fit_resample(Train_X_Tfidf, Train_Y)\n",
    "\n",
    "counter = Counter(Train_Y_RandOS)\n",
    "for k,v in counter.items():\n",
    "    per = v / len(Train_Y) * 100\n",
    "    print('Class=%d, n=%d (%.3f%%)' % (k, v, per))\n",
    "pyplot.title(\"Random Over Sampler\")\n",
    "pyplot.bar(counter.keys(), counter.values())\n",
    "pyplot.xticks([0,1,2,3])\n",
    "pyplot.show()"
   ]
  },
  {
   "cell_type": "code",
   "execution_count": null,
   "metadata": {},
   "outputs": [],
   "source": [
    "# Oversampling - SMOTE\n",
    "(Train_X_Tfidf_SMOTE, Train_Y_SMOTE) = smote(Train_X_Tfidf, Train_Y)\n",
    "\n",
    "counter = Counter(Train_Y_SMOTE)\n",
    "for k,v in counter.items():\n",
    "    per = v / len(Train_Y) * 100\n",
    "    print('Class=%d, n=%d (%.3f%%)' % (k, v, per))\n",
    "pyplot.title(\"SMOTE\")\n",
    "pyplot.bar(counter.keys(), counter.values())\n",
    "pyplot.xticks([0,1,2,3])\n",
    "pyplot.show()"
   ]
  },
  {
   "cell_type": "markdown",
   "metadata": {},
   "source": [
    "Due to the fact that by using SMOTE we got the same or even slightly worse results as the ones using RandomOverSampler, we decided to omit it past this point."
   ]
  },
  {
   "cell_type": "code",
   "execution_count": null,
   "metadata": {},
   "outputs": [],
   "source": [
    "# Undersampling - Random Under Sampler\n",
    "undersample = RandomUnderSampler()\n",
    "(Train_X_Tfidf_RandUS, Train_Y_RandUS) = undersample.fit_resample(Train_X_Tfidf, Train_Y)\n",
    "\n",
    "counter = Counter(Train_Y_RandUS)\n",
    "for k,v in counter.items():\n",
    "    per = v / len(Train_Y) * 100\n",
    "    print('Class=%d, n=%d (%.3f%%)' % (k, v, per))\n",
    "pyplot.title(\"Random Under Sampler\")\n",
    "pyplot.bar(counter.keys(), counter.values())\n",
    "pyplot.xticks([0,1,2,3])\n",
    "pyplot.show()"
   ]
  },
  {
   "cell_type": "markdown",
   "metadata": {},
   "source": [
    "### Algorithms"
   ]
  },
  {
   "cell_type": "code",
   "execution_count": null,
   "metadata": {},
   "outputs": [],
   "source": [
    "# SVM\n",
    "def svm(X_train, X_test, y_train, y_test):\n",
    "    classifier = SVC()\n",
    "\n",
    "    time_0 = time.time()\n",
    "    classifier.fit(X_train, y_train)\n",
    "    training_time = str(round(time.time()-time_0,3))\n",
    "    \n",
    "    time_1 = time.time()\n",
    "    y_pred = classifier.predict(X_test)\n",
    "    predict_time = str(round(time.time()-time_1,3))\n",
    "    \n",
    "    print(\"Training Time (seconds): \" + training_time)\n",
    "    print(\"Predict Time (seconds): \" + predict_time)\n",
    "    \n",
    "    print(classification_report(y_test, y_pred, zero_division=0))\n",
    "    \n",
    "    plot_conf_matrix(Test_Y, y_pred)\n",
    "\n",
    "    return (classification_report(y_test, y_pred, output_dict=True, zero_division=0), training_time, predict_time, y_test, y_pred)"
   ]
  },
  {
   "cell_type": "code",
   "execution_count": null,
   "metadata": {
    "scrolled": false
   },
   "outputs": [],
   "source": [
    "(svc_for_graph_default, svc_train_time_default, svc_predict_time_default, svc_y_test_default, svc_y_pred_default) = svm(Train_X_Tfidf, Test_X_Tfidf, Train_Y, Test_Y)"
   ]
  },
  {
   "cell_type": "code",
   "execution_count": null,
   "metadata": {
    "scrolled": true
   },
   "outputs": [],
   "source": [
    "# Random Oversampling\n",
    "(svc_for_graph_os, svc_train_time_os, svc_predict_time_os, svc_y_test_os, svc_y_pred_os) = svm(Train_X_Tfidf_RandOS, Test_X_Tfidf, Train_Y_RandOS, Test_Y)"
   ]
  },
  {
   "cell_type": "code",
   "execution_count": null,
   "metadata": {
    "scrolled": true
   },
   "outputs": [],
   "source": [
    "# Random Undersampling\n",
    "(svc_for_graph_us, svc_train_time_us, svc_predict_time_us, svc_y_test_us, svc_y_pred_us) = svm(Train_X_Tfidf_RandUS, Test_X_Tfidf, Train_Y_RandUS, Test_Y)"
   ]
  },
  {
   "cell_type": "code",
   "execution_count": null,
   "metadata": {},
   "outputs": [],
   "source": [
    "from sklearn.linear_model import Perceptron\n",
    "\n",
    "# Perceptron\n",
    "def perceptron(X_train, X_test, y_train, y_test):\n",
    "    classifier = Perceptron()\n",
    "    \n",
    "    time_0 = time.time()\n",
    "    classifier.fit(X_train, y_train)\n",
    "    training_time = str(round(time.time()-time_0,5))\n",
    "    \n",
    "    time_1 = time.time()\n",
    "    y_pred = classifier.predict(X_test)\n",
    "    \n",
    "    predict_time = str(round(time.time()-time_1,5))\n",
    "    \n",
    "    print(\"Training Time (seconds): \" + training_time)\n",
    "    print(\"Predict Time (seconds): \" + predict_time)\n",
    "\n",
    "    print(classification_report(y_test, y_pred))\n",
    "    \n",
    "    plot_conf_matrix(Test_Y, y_pred)\n",
    "    \n",
    "    return (classification_report(y_test, y_pred, output_dict=True), training_time, predict_time, y_test, y_pred)"
   ]
  },
  {
   "cell_type": "code",
   "execution_count": null,
   "metadata": {},
   "outputs": [],
   "source": [
    "(perceptron_for_graph_default, perceptron_train_time_default, perceptron_predict_time_default, perceptron_y_test_default, perceptron_y_pred_default) = perceptron(Train_X_Tfidf, Test_X_Tfidf, Train_Y, Test_Y)"
   ]
  },
  {
   "cell_type": "code",
   "execution_count": null,
   "metadata": {},
   "outputs": [],
   "source": [
    "# Random Oversampling\n",
    "(perceptron_for_graph_os, perceptron_train_time_os, perceptron_predict_time_os, perceptron_y_test_os, perceptron_y_pred_os) = perceptron(Train_X_Tfidf_RandOS, Test_X_Tfidf, Train_Y_RandOS, Test_Y)"
   ]
  },
  {
   "cell_type": "code",
   "execution_count": null,
   "metadata": {},
   "outputs": [],
   "source": [
    "# Random Undersampling\n",
    "(perceptron_for_graph_us, perceptron_train_time_us, perceptron_predict_time_us, perceptron_y_test_us, perceptron_y_pred_us) = perceptron(Train_X_Tfidf_RandUS, Test_X_Tfidf, Train_Y_RandUS, Test_Y)"
   ]
  },
  {
   "cell_type": "code",
   "execution_count": null,
   "metadata": {},
   "outputs": [],
   "source": [
    "from sklearn.neural_network import MLPClassifier\n",
    "\n",
    "# Multi Layered Perceptron\n",
    "def mlp(X_train, X_test, y_train, y_test):\n",
    "    \n",
    "    classifier = MLPClassifier(activation='tanh', alpha=0.05, hidden_layer_sizes=(7,), learning_rate='adaptive', solver='sgd')\n",
    "    \n",
    "    time_0 = time.time()\n",
    "    classifier.fit(X_train, y_train)\n",
    "    training_time = str(round(time.time()-time_0,5))\n",
    "    \n",
    "    time_1 = time.time()\n",
    "    y_pred = classifier.predict(X_test)\n",
    "    predict_time = str(round(time.time()-time_1,5))\n",
    "    \n",
    "    print(\"Training Time (seconds): \" + training_time)\n",
    "    print(\"Predict Time (seconds): \" + predict_time)\n",
    "    \n",
    "    print(classification_report(y_test, y_pred, zero_division=0))\n",
    "    \n",
    "    plot_conf_matrix(Test_Y, y_pred)\n",
    "    \n",
    "    return (classification_report(y_test, y_pred, output_dict=True, zero_division=0), training_time, predict_time, y_test, y_pred)"
   ]
  },
  {
   "cell_type": "code",
   "execution_count": null,
   "metadata": {},
   "outputs": [],
   "source": [
    "(mlp_for_graph_default, mlp_train_time_default, mlp_predict_time_default, mlp_y_test_default, mlp_y_pred_default) = mlp(Train_X_Tfidf, Test_X_Tfidf, Train_Y, Test_Y)"
   ]
  },
  {
   "cell_type": "code",
   "execution_count": null,
   "metadata": {},
   "outputs": [],
   "source": [
    "# Random Oversampling\n",
    "(mlp_for_graph_os, mlp_train_time_os, mlp_predict_time_os, mlp_y_test_os, mlp_y_pred_os) = mlp(Train_X_Tfidf_RandOS, Test_X_Tfidf, Train_Y_RandOS, Test_Y)"
   ]
  },
  {
   "cell_type": "code",
   "execution_count": null,
   "metadata": {},
   "outputs": [],
   "source": [
    "# Random Undersampling\n",
    "(mlp_for_graph_us, mlp_train_time_us, mlp_predict_time_us, mlp_y_test_us, mlp_y_pred_us) = mlp(Train_X_Tfidf_RandUS, Test_X_Tfidf, Train_Y_RandUS, Test_Y)"
   ]
  },
  {
   "cell_type": "markdown",
   "metadata": {},
   "source": [
    "### Comparisons between Algorithms"
   ]
  },
  {
   "cell_type": "code",
   "execution_count": null,
   "metadata": {},
   "outputs": [],
   "source": [
    "import matplotlib.patches as mpatches"
   ]
  },
  {
   "cell_type": "code",
   "execution_count": null,
   "metadata": {},
   "outputs": [],
   "source": [
    "def plotComparisons(data, title):\n",
    "    X = np.arange(3)\n",
    "    fig = plt.figure()\n",
    "    ax = fig.add_axes([0,0,1.5,1.5])\n",
    "    ax.bar(X + 0.0, data[0], color = '#3275a8', width = 0.2)\n",
    "    ax.bar(X + 0.2, data[1], color = '#258f3c', width = 0.2)\n",
    "    ax.bar(X + 0.40, data[2], color = '#d1682c', width = 0.2)\n",
    "    ax.bar(X + 0.6, data[3], color = '#9fd12c', width = 0.2)\n",
    "\n",
    "    plt.xticks([0.25,1.25,2.25], ['SVM', 'Perceptron', 'Tuned MLP'])\n",
    "\n",
    "    default_patch = mpatches.Patch(color='#3275a8', label='Accuracy')\n",
    "    tunned_patch = mpatches.Patch(color='#258f3c', label='Precision')\n",
    "    tunned_patch_2 = mpatches.Patch(color='#d1682c', label='Recall')\n",
    "    tunned_patch_3 = mpatches.Patch(color='#9fd12c', label='F1')\n",
    "    plt.legend(handles=[default_patch, tunned_patch, tunned_patch_2, tunned_patch_3], bbox_to_anchor=(1.05, 1), loc='upper left', borderaxespad=0.)\n",
    "\n",
    "    plt.xlabel(\"Algorithm\")\n",
    "    plt.ylabel(\"Score\")\n",
    "    plt.title(title)\n",
    "\n",
    "    print()"
   ]
  },
  {
   "cell_type": "code",
   "execution_count": null,
   "metadata": {
    "scrolled": false
   },
   "outputs": [],
   "source": [
    "data = [\n",
    "            [accuracy_score(svc_y_test_default, svc_y_pred_default), accuracy_score(perceptron_y_test_default, perceptron_y_pred_default), accuracy_score(mlp_y_test_default, mlp_y_pred_default)],\n",
    "            [precision_score(svc_y_test_default, svc_y_pred_default, average='weighted', zero_division=0), precision_score(perceptron_y_test_default, perceptron_y_pred_default, average='weighted', zero_division=0), precision_score(mlp_y_test_default, mlp_y_pred_default, average='weighted', zero_division=0)],\n",
    "            [recall_score(svc_y_test_default, svc_y_pred_default, average='weighted'), recall_score(perceptron_y_test_default, perceptron_y_pred_default, average='weighted'), recall_score(mlp_y_test_default, mlp_y_pred_default, average='weighted')],\n",
    "            [f1_score(svc_y_test_default, svc_y_pred_default, average='weighted'), f1_score(perceptron_y_test_default, perceptron_y_pred_default, average='weighted'), f1_score(mlp_y_test_default, mlp_y_pred_default, average='weighted')]\n",
    "       ]\n",
    "title = \"Scores obtained using Default Dataset\"\n",
    "plotComparisons(data, title)"
   ]
  },
  {
   "cell_type": "code",
   "execution_count": null,
   "metadata": {},
   "outputs": [],
   "source": [
    "data = [\n",
    "            [accuracy_score(svc_y_test_os, svc_y_pred_os), accuracy_score(perceptron_y_test_os, perceptron_y_pred_os), accuracy_score(mlp_y_test_os, mlp_y_pred_os)],\n",
    "            [precision_score(svc_y_test_os, svc_y_pred_os, average='weighted', zero_division=0), precision_score(perceptron_y_test_os, perceptron_y_pred_os, average='weighted', zero_division=0), precision_score(mlp_y_test_os, mlp_y_pred_os, average='weighted', zero_division=0)],\n",
    "            [recall_score(svc_y_test_os, svc_y_pred_os, average='weighted'), recall_score(perceptron_y_test_os, perceptron_y_pred_os, average='weighted'), recall_score(mlp_y_test_os, mlp_y_pred_os, average='weighted')],\n",
    "            [f1_score(svc_y_test_os, svc_y_pred_os, average='weighted'), f1_score(perceptron_y_test_os, perceptron_y_pred_os, average='weighted'), f1_score(mlp_y_test_os, mlp_y_pred_os, average='weighted')]\n",
    "       ]\n",
    "title = \"Scores obtained using Oversampling\"\n",
    "plotComparisons(data, title)"
   ]
  },
  {
   "cell_type": "code",
   "execution_count": null,
   "metadata": {},
   "outputs": [],
   "source": [
    "data = [\n",
    "            [accuracy_score(svc_y_test_us, svc_y_pred_us), accuracy_score(perceptron_y_test_us, perceptron_y_pred_us), accuracy_score(mlp_y_test_us, mlp_y_pred_us)],\n",
    "            [precision_score(svc_y_test_us, svc_y_pred_us, average='weighted', zero_division=0), precision_score(perceptron_y_test_us, perceptron_y_pred_us, average='weighted', zero_division=0), precision_score(mlp_y_test_us, mlp_y_pred_us, average='weighted', zero_division=0)],\n",
    "            [recall_score(svc_y_test_us, svc_y_pred_us, average='weighted'), recall_score(perceptron_y_test_us, perceptron_y_pred_us, average='weighted'), recall_score(mlp_y_test_us, mlp_y_pred_us, average='weighted')],\n",
    "            [f1_score(svc_y_test_us, svc_y_pred_us, average='weighted'), f1_score(perceptron_y_test_us, perceptron_y_pred_us, average='weighted'), f1_score(mlp_y_test_us, mlp_y_pred_us, average='weighted')]\n",
    "       ]\n",
    "title = \"Scores obtained using Undersampling\"\n",
    "plotComparisons(data, title)"
   ]
  },
  {
   "cell_type": "code",
   "execution_count": null,
   "metadata": {},
   "outputs": [],
   "source": [
    "def plotComparisons(data, title):\n",
    "    X = np.arange(3)\n",
    "    fig, axs = plt.subplots(1, 2, figsize=(15, 7.5))\n",
    "    axs[0].bar(X + 0.2, data[0], color = '#3275a8', width = 0.2)\n",
    "    axs[0].bar(X + 0.4, data[1], color = '#258f3c', width = 0.2)\n",
    "    axs[0].bar(X + 0.6, data[2], color = '#d1682c', width = 0.2)\n",
    "    axs[0].set_title(\"Training\")\n",
    "    \n",
    "    X = np.arange(3)\n",
    "    axs[1].bar(X + 0.2, data[3], color = '#9fd12c', width = 0.2)\n",
    "    axs[1].bar(X + 0.4, data[4], color = '#3275a8', width = 0.2)\n",
    "    axs[1].bar(X + 0.6, data[5], color = '#258f3c', width = 0.2)\n",
    "    axs[1].set_title(\"Predicting\")\n",
    "\n",
    "    plt.xticks([0.25,1.25,2.25], ['SVM', 'Perceptron', 'Tuned MLP'])\n",
    "\n",
    "    default_patch = mpatches.Patch(color='#3275a8', label='Train time Default')\n",
    "    tunned_patch = mpatches.Patch(color='#258f3c', label='Train time Oversampling')\n",
    "    tunned_patch_2 = mpatches.Patch(color='#d1682c', label='Train time Undersampling')\n",
    "    plt.legend(handles=[default_patch, tunned_patch, tunned_patch_2], bbox_to_anchor=(1.05, 1), loc='upper left', borderaxespad=0.)\n",
    "\n",
    "    plt.xlabel(\"Algorithm\")\n",
    "    plt.ylabel(\"Time\")\n",
    "    print()\n",
    "\n",
    "data = [\n",
    "            [float(svc_train_time_default), float(perceptron_train_time_default), float(mlp_train_time_default)],\n",
    "            [float(svc_train_time_os), float(perceptron_train_time_os), float(mlp_train_time_os)],\n",
    "            [float(svc_train_time_us), float(perceptron_train_time_us), float(mlp_train_time_us)],\n",
    "            [float(svc_predict_time_default), float(perceptron_predict_time_default), float(mlp_predict_time_default)],\n",
    "            [float(svc_predict_time_os), float(perceptron_predict_time_os), float(mlp_predict_time_os)],\n",
    "            [float(svc_predict_time_us), float(perceptron_predict_time_us), float(mlp_predict_time_us)],\n",
    "       ]\n",
    "title = \"Scores obtained using Undersampling\"\n",
    "plotComparisons(data, title)"
   ]
  },
  {
   "cell_type": "code",
   "execution_count": null,
   "metadata": {},
   "outputs": [],
   "source": [
    "def plotComparisons(data, title):\n",
    "    X = np.arange(2)\n",
    "    fig, axs = plt.subplots(1, 3, figsize=(15, 7.5))\n",
    "    axs[0].bar(X + 0.2, data[0], color = '#3275a8', width = 0.2)\n",
    "    axs[0].bar(X + 0.4, data[1], color = '#258f3c', width = 0.2, tick_label=['Train', 'Predict'])\n",
    "    axs[0].bar(X + 0.6, data[2], color = '#d1682c', width = 0.2)\n",
    "    axs[0].set_title(\"Default\")\n",
    "    axs[0].set_ylabel('Time (s)')\n",
    "    \n",
    "    plt.xticks([0.4,1.4], ['Train', 'Predict'])\n",
    "    \n",
    "    X = np.arange(2)\n",
    "    axs[1].bar(X + 0.2, data[3], color = '#3275a8', width = 0.2)\n",
    "    axs[1].bar(X + 0.4, data[4], color = '#258f3c', width = 0.2, tick_label=['Train', 'Predict'])\n",
    "    axs[1].bar(X + 0.6, data[5], color = '#d1682c', width = 0.2)\n",
    "    axs[1].set_title(\"Oversampling\")\n",
    "    axs[1].set_ylabel('Time (s)')\n",
    "\n",
    "    X = np.arange(2)\n",
    "    axs[2].bar(X + 0.2, data[6], color = '#3275a8', width = 0.2)\n",
    "    axs[2].bar(X + 0.4, data[7], color = '#258f3c', width = 0.2, tick_label=['Train', 'Predict'])\n",
    "    axs[2].bar(X + 0.6, data[8], color = '#d1682c', width = 0.2)\n",
    "    axs[2].set_title(\"Undersampling\")\n",
    "    axs[2].set_ylabel('Time (s)')\n",
    "\n",
    "    default_patch = mpatches.Patch(color='#3275a8', label='SVM')\n",
    "    tunned_patch = mpatches.Patch(color='#258f3c', label='Perceptron')\n",
    "    tunned_patch_2 = mpatches.Patch(color='#d1682c', label='Tuned MLP')\n",
    "    plt.legend(handles=[default_patch, tunned_patch, tunned_patch_2], bbox_to_anchor=(1.05, 1), loc='upper left', borderaxespad=0.)\n",
    "\n",
    "    print()\n",
    "\n",
    "data = [\n",
    "            [float(svc_train_time_default), float(svc_predict_time_default)],\n",
    "            [float(perceptron_train_time_default), float(perceptron_predict_time_default)],\n",
    "            [float(mlp_train_time_default), float(mlp_predict_time_default)],\n",
    "            [float(svc_train_time_os), float(svc_predict_time_os)],\n",
    "            [float(perceptron_train_time_os), float(perceptron_predict_time_os)],\n",
    "            [float(mlp_train_time_os), float(mlp_predict_time_os)],\n",
    "            [float(svc_train_time_us), float(svc_predict_time_us)],\n",
    "            [float(perceptron_train_time_us), float(perceptron_predict_time_us)],\n",
    "            [float(mlp_train_time_us), float(mlp_predict_time_us)]\n",
    "       ]\n",
    "title = \"Scores obtained using Undersampling\"\n",
    "plotComparisons(data, title)"
   ]
  },
  {
   "cell_type": "markdown",
   "metadata": {},
   "source": [
    "Above are the graphs of training and predict running times for each of the algorithms."
   ]
  },
  {
   "cell_type": "markdown",
   "metadata": {},
   "source": [
    "## Conclusions"
   ]
  },
  {
   "cell_type": "markdown",
   "metadata": {},
   "source": [
    "We concluded that data processing, coupled with an adequate algorithm, is the most important factor for good prediction results in a problem such as this one.\n",
    "In our case, the Support Vector Machine Algorithm was the one that gave the best results in general.\n",
    "We enjoyed tweaking the processing, algorithms and parameters and verifying the results.\n",
    "Unfortunately, those tweaks didn’t give results that matched our expectations.\n",
    "We think that with more than just the under 4 thousand tweets of the given dataset we could achieve tremendously better results, especially in task B, which was unbalanced."
   ]
  }
 ],
 "metadata": {
  "kernelspec": {
   "display_name": "Python 3",
   "language": "python",
   "name": "python3"
  },
  "language_info": {
   "codemirror_mode": {
    "name": "ipython",
    "version": 3
   },
   "file_extension": ".py",
   "mimetype": "text/x-python",
   "name": "python",
   "nbconvert_exporter": "python",
   "pygments_lexer": "ipython3",
   "version": "3.8.5"
  }
 },
 "nbformat": 4,
 "nbformat_minor": 4
}

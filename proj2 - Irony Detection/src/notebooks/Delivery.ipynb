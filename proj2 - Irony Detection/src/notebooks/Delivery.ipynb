{
 "cells": [
  {
   "cell_type": "markdown",
   "metadata": {},
   "source": [
    "# Irony Detection in English Tweets"
   ]
  },
  {
   "cell_type": "markdown",
   "metadata": {},
   "source": [
    "* João Dossena - UP201800174\n",
    "* João Rosário - UP201806334\n",
    "* João Sousa - UP201806613\n",
    "\n",
    "MIEIC, Class 8, Group 14"
   ]
  },
  {
   "cell_type": "markdown",
   "metadata": {},
   "source": [
    "## Project Specification"
   ]
  },
  {
   "cell_type": "markdown",
   "metadata": {},
   "source": [
    "The project is made up of two subtasks.\n",
    "In the first one the objective is the detection of irony given a tweet in English, marking it out either with a value of 0 or 1 if irony is absent or not, respectively.\n",
    "In the second subtask the goal is to classify the type of irony into 4 classes:\n",
    "1. verbal irony realized through a polarity contrast\n",
    "2. verbal irony without such a polarity contrast (i.e., other verbal irony)\n",
    "3. descriptions of situational irony\n",
    "4. non-irony\n",
    "\n",
    "The datasets provided consisted of a set of entries where the first column was the tweet index, the second one was the label (either 0 or 1, or 0, 1, 2 or 3 depending on the task) in the case of the training data or the tweet text which corresponds to the third column in the training datasets."
   ]
  },
  {
   "cell_type": "markdown",
   "metadata": {},
   "source": [
    "## Required Libraries\n",
    "\n",
    "* ... todo"
   ]
  },
  {
   "cell_type": "markdown",
   "metadata": {},
   "source": [
    "## Exploratory Data Analysis"
   ]
  },
  {
   "cell_type": "code",
   "execution_count": 141,
   "metadata": {},
   "outputs": [],
   "source": [
    "import pandas as pd\n",
    "import numpy as np\n",
    "import seaborn as sns #visualisation\n",
    "import matplotlib.pyplot as plt #visualisation\n",
    "%matplotlib inline \n",
    "sns.set(color_codes=True)"
   ]
  },
  {
   "cell_type": "code",
   "execution_count": 2,
   "metadata": {},
   "outputs": [],
   "source": [
    "# Get data from file\n",
    "def readData(path_train, path_test):\n",
    "    df = pd.read_csv(path_train, sep=\"\\t\")\n",
    "    test_df = pd.read_csv(path_test, sep=\"\\t\")\n",
    "    print(\"Data Read Successfully\")\n",
    "    return (df, test_df)"
   ]
  },
  {
   "cell_type": "code",
   "execution_count": 3,
   "metadata": {},
   "outputs": [
    {
     "name": "stdout",
     "output_type": "stream",
     "text": [
      "Data Read Successfully\n"
     ]
    }
   ],
   "source": [
    "(train_df, test_df) = readData(\"../datasets/train/train-taskA.txt\", \"../datasets/test/gold_test_taskA.txt\")"
   ]
  },
  {
   "cell_type": "code",
   "execution_count": 4,
   "metadata": {},
   "outputs": [
    {
     "data": {
      "text/plain": [
       "(3817, 3)"
      ]
     },
     "execution_count": 4,
     "metadata": {},
     "output_type": "execute_result"
    }
   ],
   "source": [
    "# train_df = pd.read_csv(\"../datasets/train/train-taskA.txt\", sep=\"\\t\")\n",
    "train_df.shape"
   ]
  },
  {
   "cell_type": "code",
   "execution_count": 5,
   "metadata": {},
   "outputs": [
    {
     "data": {
      "text/plain": [
       "(784, 3)"
      ]
     },
     "execution_count": 5,
     "metadata": {},
     "output_type": "execute_result"
    }
   ],
   "source": [
    "# test_df = pd.read_csv(\"../datasets/test/gold_test_taskA.txt\", sep=\"\\t\")\n",
    "test_df.shape"
   ]
  },
  {
   "cell_type": "code",
   "execution_count": 6,
   "metadata": {},
   "outputs": [
    {
     "data": {
      "text/html": [
       "<div>\n",
       "<style scoped>\n",
       "    .dataframe tbody tr th:only-of-type {\n",
       "        vertical-align: middle;\n",
       "    }\n",
       "\n",
       "    .dataframe tbody tr th {\n",
       "        vertical-align: top;\n",
       "    }\n",
       "\n",
       "    .dataframe thead th {\n",
       "        text-align: right;\n",
       "    }\n",
       "</style>\n",
       "<table border=\"1\" class=\"dataframe\">\n",
       "  <thead>\n",
       "    <tr style=\"text-align: right;\">\n",
       "      <th></th>\n",
       "      <th>Tweet index</th>\n",
       "      <th>Label</th>\n",
       "      <th>Tweet text</th>\n",
       "    </tr>\n",
       "  </thead>\n",
       "  <tbody>\n",
       "    <tr>\n",
       "      <th>0</th>\n",
       "      <td>1</td>\n",
       "      <td>1</td>\n",
       "      <td>Sweet United Nations video. Just in time for C...</td>\n",
       "    </tr>\n",
       "    <tr>\n",
       "      <th>1</th>\n",
       "      <td>2</td>\n",
       "      <td>1</td>\n",
       "      <td>@mrdahl87 We are rumored to have talked to Erv...</td>\n",
       "    </tr>\n",
       "    <tr>\n",
       "      <th>2</th>\n",
       "      <td>3</td>\n",
       "      <td>1</td>\n",
       "      <td>Hey there! Nice to see you Minnesota/ND Winter...</td>\n",
       "    </tr>\n",
       "    <tr>\n",
       "      <th>3</th>\n",
       "      <td>4</td>\n",
       "      <td>0</td>\n",
       "      <td>3 episodes left I'm dying over here</td>\n",
       "    </tr>\n",
       "    <tr>\n",
       "      <th>4</th>\n",
       "      <td>5</td>\n",
       "      <td>1</td>\n",
       "      <td>I can't breathe! was chosen as the most notabl...</td>\n",
       "    </tr>\n",
       "  </tbody>\n",
       "</table>\n",
       "</div>"
      ],
      "text/plain": [
       "   Tweet index  Label                                         Tweet text\n",
       "0            1      1  Sweet United Nations video. Just in time for C...\n",
       "1            2      1  @mrdahl87 We are rumored to have talked to Erv...\n",
       "2            3      1  Hey there! Nice to see you Minnesota/ND Winter...\n",
       "3            4      0                3 episodes left I'm dying over here\n",
       "4            5      1  I can't breathe! was chosen as the most notabl..."
      ]
     },
     "execution_count": 6,
     "metadata": {},
     "output_type": "execute_result"
    }
   ],
   "source": [
    "train_df.head()"
   ]
  },
  {
   "cell_type": "code",
   "execution_count": 7,
   "metadata": {},
   "outputs": [
    {
     "data": {
      "text/plain": [
       "Tweet index    0\n",
       "Label          0\n",
       "Tweet text     0\n",
       "dtype: int64"
      ]
     },
     "execution_count": 7,
     "metadata": {},
     "output_type": "execute_result"
    }
   ],
   "source": [
    "# checking if there are any null values present in the dataset\n",
    "train_df.isnull().sum()"
   ]
  },
  {
   "cell_type": "code",
   "execution_count": 8,
   "metadata": {},
   "outputs": [
    {
     "name": "stdout",
     "output_type": "stream",
     "text": [
      "Label\n",
      "0    1916\n",
      "1    1901\n",
      "Name: Tweet text, dtype: int64\n"
     ]
    },
    {
     "data": {
      "image/png": "[encoded data removed]",
      "text/plain": [
       "<Figure size 432x288 with 1 Axes>"
      ]
     },
     "metadata": {},
     "output_type": "display_data"
    }
   ],
   "source": [
    "print(train_df.groupby('Label')['Tweet text'].count())\n",
    "train_df.groupby('Label')['Tweet text'].count().plot.bar(ylim=0)\n",
    "plt.show()"
   ]
  },
  {
   "cell_type": "code",
   "execution_count": 9,
   "metadata": {},
   "outputs": [
    {
     "data": {
      "text/plain": [
       "\"\\ndef get_top_n_words(corpus, n=None):\\n    vec = CountVectorizer().fit(corpus)\\n    bag_of_words = vec.transform(corpus)\\n    sum_words = bag_of_words.sum(axis=0) \\n    words_freq = [(word, sum_words[0, idx]) for word, idx in vec.vocabulary_.items()]\\n    words_freq =sorted(words_freq, key = lambda x: x[1], reverse=True)\\n    return words_freq[:n]\\ncommon_words = get_top_n_words(train_df['Tweet text'], -1)\\nfor word, freq in common_words:\\n    print(word, freq)\\n\""
      ]
     },
     "execution_count": 9,
     "metadata": {},
     "output_type": "execute_result"
    }
   ],
   "source": [
    "'''\n",
    "def get_top_n_words(corpus, n=None):\n",
    "    vec = CountVectorizer().fit(corpus)\n",
    "    bag_of_words = vec.transform(corpus)\n",
    "    sum_words = bag_of_words.sum(axis=0) \n",
    "    words_freq = [(word, sum_words[0, idx]) for word, idx in vec.vocabulary_.items()]\n",
    "    words_freq =sorted(words_freq, key = lambda x: x[1], reverse=True)\n",
    "    return words_freq[:n]\n",
    "common_words = get_top_n_words(train_df['Tweet text'], -1)\n",
    "for word, freq in common_words:\n",
    "    print(word, freq)\n",
    "'''\n"
   ]
  },
  {
   "cell_type": "markdown",
   "metadata": {},
   "source": [
    "## Text processing"
   ]
  },
  {
   "cell_type": "code",
   "execution_count": 10,
   "metadata": {},
   "outputs": [],
   "source": [
    "import re\n",
    "import nltk\n",
    "from nltk.stem.porter import PorterStemmer\n",
    "from nltk.stem.lancaster import LancasterStemmer\n",
    "from nltk.stem import WordNetLemmatizer\n",
    "from nltk.corpus import stopwords\n",
    "import numpy as np\n",
    "from nltk.tokenize import word_tokenize\n",
    "from nltk import pos_tag\n",
    "from nltk.corpus import stopwords\n",
    "from nltk.stem import WordNetLemmatizer\n",
    "from sklearn.preprocessing import LabelEncoder\n",
    "from collections import defaultdict\n",
    "from nltk.corpus import wordnet as wn\n",
    "from sklearn.feature_extraction.text import TfidfVectorizer\n",
    "from sklearn import model_selection, naive_bayes, svm\n",
    "from sklearn.metrics import accuracy_score\n",
    "\n",
    "\n",
    "def processing(Corpus):\n",
    "    # Step - a : Remove blank rows if any.\n",
    "    Corpus['Tweet text'].dropna(inplace=True)\n",
    "    \n",
    "    # Step - b : Change all the text to lower case. This is required as python interprets 'dog' and 'DOG' differently\n",
    "    Corpus['Tweet text'] = [entry.lower() for entry in Corpus['Tweet text']]\n",
    "    \n",
    "    # Step - c : Tokenization : In this each entry in the corpus will be broken into set of words\n",
    "    Corpus['Tweet text'] = [re.sub('@[a-zA-Z0-9_]+|https?://t.co/[a-zA-Z0-9_]+|[^a-zA-Z]', ' ', entry) for entry in Corpus['Tweet text']]\n",
    "    \n",
    "    # Step - c2 : Remove usernames \n",
    "    Corpus['Tweet text']= [word_tokenize(entry) for entry in Corpus['Tweet text']]\n",
    "    \n",
    "    # Step - d : Remove Stop words, Non-Numeric and perfom Word Stemming/Lemmenting.# WordNetLemmatizer requires Pos tags to understand if the word is noun or verb or adjective etc. By default it is set to Noun\n",
    "    tag_map = defaultdict(lambda : wn.NOUN)\n",
    "    tag_map['J'] = wn.ADJ\n",
    "    tag_map['V'] = wn.VERB\n",
    "    tag_map['R'] = wn.ADV\n",
    "    for index,entry in enumerate(Corpus['Tweet text']):\n",
    "        \n",
    "        # Declaring Empty List to store the words that follow the rules for this step\n",
    "        Final_words = []\n",
    "        \n",
    "        # Initializing WordNetLemmatizer()\n",
    "        word_Lemmatized = WordNetLemmatizer()\n",
    "        \n",
    "        # pos_tag function below will provide the 'tag' i.e if the word is Noun(N) or Verb(V) or something else.\n",
    "        for word, tag in pos_tag(entry):\n",
    "            # Below condition is to check for Stop words and consider only alphabets\n",
    "            if word not in stopwords.words('english') and word.isalpha():\n",
    "                word_Final = word_Lemmatized.lemmatize(word,tag_map[tag[0]])\n",
    "                Final_words.append(word_Final)\n",
    "        # The final processed set of words for each iteration will be stored in 'text_final'\n",
    "        Corpus.loc[index,'text_final'] = str(Final_words)\n",
    "    \n",
    "    # print(Corpus['text_final'])\n",
    "    print(\"Processed\")\n",
    "    return Corpus"
   ]
  },
  {
   "cell_type": "code",
   "execution_count": 11,
   "metadata": {},
   "outputs": [
    {
     "name": "stdout",
     "output_type": "stream",
     "text": [
      "Processed\n",
      "Processed\n"
     ]
    }
   ],
   "source": [
    "corpus = processing(train_df)\n",
    "test_corpus = processing(test_df)"
   ]
  },
  {
   "cell_type": "code",
   "execution_count": 12,
   "metadata": {},
   "outputs": [],
   "source": [
    "from sklearn.feature_extraction.text import CountVectorizer\n",
    "\n",
    "# Create bag-of-words model\n",
    "def bagOfWords(df, corpus):\n",
    "    vectorizer = CountVectorizer(max_features = 250) # original = 1500\n",
    "    X = vectorizer.fit_transform(corpus).toarray()\n",
    "    y = df.iloc[:,1].values\n",
    "\n",
    "    print(\"Bag of words done!\")\n",
    "\n",
    "    print(\"bag_of_words: 250 max_features\")\n",
    "    return (X, y)"
   ]
  },
  {
   "cell_type": "code",
   "execution_count": 13,
   "metadata": {},
   "outputs": [],
   "source": [
    "from imblearn.over_sampling import SMOTE\n",
    "\n",
    "# Oversampling Method\n",
    "def smote(X_train, y_train):\n",
    "\n",
    "    sm = SMOTE()\n",
    "    X_train, y_train = sm.fit_resample(X_train, y_train)\n",
    "\n",
    "    print(\"Oversampling with Smote\")\n",
    "    return (X_train, y_train)"
   ]
  },
  {
   "cell_type": "code",
   "execution_count": 14,
   "metadata": {},
   "outputs": [],
   "source": [
    "Train_X = corpus['text_final']\n",
    "Train_Y = corpus.iloc[:,1].values\n",
    "\n",
    "Test_X = test_corpus['text_final']\n",
    "Test_Y = test_corpus.iloc[:,1].values"
   ]
  },
  {
   "cell_type": "code",
   "execution_count": 15,
   "metadata": {},
   "outputs": [
    {
     "name": "stdout",
     "output_type": "stream",
     "text": [
      "TfidfVectorizer max_features=5000\n"
     ]
    }
   ],
   "source": [
    "print(\"TfidfVectorizer max_features=5000\")\n",
    "Tfidf_vect = TfidfVectorizer(max_features=5000)\n",
    "Tfidf_vect.fit(corpus['text_final'])\n",
    "Train_X_Tfidf = Tfidf_vect.transform(Train_X)\n",
    "Test_X_Tfidf = Tfidf_vect.transform(Test_X)"
   ]
  },
  {
   "cell_type": "code",
   "execution_count": 16,
   "metadata": {},
   "outputs": [
    {
     "name": "stdout",
     "output_type": "stream",
     "text": [
      "Oversampling with Smote\n"
     ]
    }
   ],
   "source": [
    "# Oversampling\n",
    "(Train_X_Tfidf, Train_Y) = smote(Train_X_Tfidf, Train_Y)"
   ]
  },
  {
   "cell_type": "markdown",
   "metadata": {},
   "source": [
    "## Algorithms and Parameter Tuning"
   ]
  },
  {
   "cell_type": "code",
   "execution_count": 17,
   "metadata": {},
   "outputs": [],
   "source": [
    "from sklearn.metrics import confusion_matrix\n",
    "from sklearn.metrics import accuracy_score\n",
    "from sklearn.metrics import precision_score\n",
    "from sklearn.metrics import recall_score\n",
    "from sklearn.metrics import f1_score\n",
    "\n",
    "from sklearn.metrics import classification_report\n",
    "from sklearn.model_selection import GridSearchCV\n",
    "\n",
    "import time"
   ]
  },
  {
   "cell_type": "markdown",
   "metadata": {},
   "source": [
    "### Support Vector Machines"
   ]
  },
  {
   "cell_type": "code",
   "execution_count": 18,
   "metadata": {},
   "outputs": [],
   "source": [
    "from sklearn.svm import SVC"
   ]
  },
  {
   "cell_type": "code",
   "execution_count": 19,
   "metadata": {},
   "outputs": [],
   "source": [
    "# SVM default\n",
    "def svm_default(X_train, X_test, y_train, y_test):\n",
    "    \n",
    "    print(\"SVM (default parameters)\")\n",
    "    classifier = SVC()\n",
    "    return svm(classifier, X_train, X_test, y_train, y_test)\n",
    "\n",
    "# SVM optimized\n",
    "def svm_optimized(X_train, X_test, y_train, y_test):\n",
    "    \n",
    "    # 'C': 1, 'kernel': 'linear'\n",
    "    print(\"SVM ('C': 1, 'kernel': 'linear')\")\n",
    "    classifier = SVC(C=1, kernel='linear')\n",
    "    return svm(classifier, X_train, X_test, y_train, y_test)\n",
    "    \n",
    "\n",
    "# SVM\n",
    "def svm(classifier, X_train, X_test, y_train, y_test):\n",
    "\n",
    "    # 'C': 1, 'kernel': 'linear'\n",
    "    # classifier = SVC(C=1, kernel='linear')\n",
    "    \n",
    "    time_0 = time.time()\n",
    "    classifier.fit(X_train, y_train)\n",
    "    training_time = str(round(time.time()-time_0,3))\n",
    "    \n",
    "    time_1 = time.time()\n",
    "    y_pred = classifier.predict(X_test)\n",
    "    predict_time = str(round(time.time()-time_1,3))\n",
    "\n",
    "    # print(\"SVM ('C': 1, 'kernel': 'linear')\")\n",
    "    \n",
    "    print(\"Training Time: \" + training_time)\n",
    "    print(\"Predict Time: \" + predict_time)\n",
    "    \n",
    "    print(classification_report(y_test, y_pred))\n",
    "    \n",
    "    conf_matrix = confusion_matrix(y_true=Test_Y, y_pred=y_pred)\n",
    "    fig, ax = plt.subplots(figsize=(7.5, 7.5))\n",
    "    ax.matshow(conf_matrix, cmap=plt.cm.Blues, alpha=0.3)\n",
    "    for i in range(conf_matrix.shape[0]):\n",
    "        for j in range(conf_matrix.shape[1]):\n",
    "            ax.text(x=j, y=i,s=conf_matrix[i, j], va='center', ha='center', size='xx-large')\n",
    "    plt.xlabel('Predictions', fontsize=18)\n",
    "    plt.ylabel('Actuals', fontsize=18)\n",
    "    plt.title('Confusion Matrix', fontsize=18)\n",
    "    plt.show()\n",
    "    \n",
    "    return classification_report(y_test, y_pred, output_dict=True)\n",
    "    \n",
    "    # print(confusion_matrix(y_test, y_pred))\n",
    "    # print('Accuracy: ', accuracy_score(y_test, y_pred))\n",
    "    # print('Precision: ', precision_score(y_test, y_pred))\n",
    "    # print('Recall: ', recall_score(y_test, y_pred))\n",
    "    # print('F1: ', f1_score(y_test, y_pred))"
   ]
  },
  {
   "cell_type": "code",
   "execution_count": 20,
   "metadata": {},
   "outputs": [
    {
     "name": "stdout",
     "output_type": "stream",
     "text": [
      "SVM ('C': 1, 'kernel': 'linear')\n",
      "Training Time: 0.754\n",
      "Predict Time: 0.107\n",
      "              precision    recall  f1-score   support\n",
      "\n",
      "           0       0.72      0.63      0.67       473\n",
      "           1       0.53      0.62      0.57       311\n",
      "\n",
      "    accuracy                           0.63       784\n",
      "   macro avg       0.62      0.63      0.62       784\n",
      "weighted avg       0.64      0.63      0.63       784\n",
      "\n"
     ]
    },
    {
     "data": {
      "image/png": "[encoded data removed]",
      "text/plain": [
       "<Figure size 540x540 with 1 Axes>"
      ]
     },
     "metadata": {},
     "output_type": "display_data"
    },
    {
     "name": "stdout",
     "output_type": "stream",
     "text": [
      "\n",
      "-----\n",
      "\n",
      "SVM (default parameters)\n",
      "Training Time: 0.855\n",
      "Predict Time: 0.147\n",
      "              precision    recall  f1-score   support\n",
      "\n",
      "           0       0.71      0.68      0.70       473\n",
      "           1       0.55      0.59      0.57       311\n",
      "\n",
      "    accuracy                           0.64       784\n",
      "   macro avg       0.63      0.63      0.63       784\n",
      "weighted avg       0.65      0.64      0.65       784\n",
      "\n"
     ]
    },
    {
     "data": {
      "image/png": "[encoded data removed]",
      "text/plain": [
       "<Figure size 540x540 with 1 Axes>"
      ]
     },
     "metadata": {},
     "output_type": "display_data"
    }
   ],
   "source": [
    "svm_optimized(Train_X_Tfidf, Test_X_Tfidf, Train_Y, Test_Y)\n",
    "print(\"\\n-----\\n\")\n",
    "svc_for_graph = svm_default(Train_X_Tfidf, Test_X_Tfidf, Train_Y, Test_Y)\n",
    "\n",
    "# print(svm_default(Train_X_Tfidf, Test_X_Tfidf, Train_Y, Test_Y))"
   ]
  },
  {
   "cell_type": "code",
   "execution_count": 148,
   "metadata": {},
   "outputs": [],
   "source": [
    "def findSVC(X_train, X_test, y_train, y_test):\n",
    "\n",
    "    tuned_parameters = {'kernel': ['linear', 'poly', 'rbf', 'sigmoid'],\n",
    "                        'C': [0.5, 1.0, 2.0]\n",
    "                    }\n",
    "\n",
    "    clf = GridSearchCV(SVC(), tuned_parameters, n_jobs=-1, cv=3)\n",
    "    clf.fit(X_train, y_train)\n",
    "\n",
    "    print('Best parameters found:\\n', clf.best_params_)\n",
    "\n",
    "    means = clf.cv_results_['mean_test_score']\n",
    "    stds = clf.cv_results_['std_test_score']\n",
    "    for mean, std, params in zip(means, stds, clf.cv_results_['params']):\n",
    "        print(\"%0.3f (+/-%0.03f) for %r\" % (mean, std * 2, params))\n",
    "\n",
    "    y_true, y_pred = y_test , clf.predict(X_test)\n",
    "\n",
    "    print('Results on the test set:')\n",
    "    print(classification_report(y_true, y_pred))\n",
    "    \n",
    "    return classification_report(y_test, y_pred, output_dict=True)"
   ]
  },
  {
   "cell_type": "code",
   "execution_count": 149,
   "metadata": {},
   "outputs": [
    {
     "name": "stdout",
     "output_type": "stream",
     "text": [
      "Best parameters found:\n",
      " {'C': 1.0, 'kernel': 'sigmoid'}\n",
      "0.612 (+/-0.028) for {'C': 0.5, 'kernel': 'linear'}\n",
      "0.529 (+/-0.004) for {'C': 0.5, 'kernel': 'poly'}\n",
      "0.609 (+/-0.032) for {'C': 0.5, 'kernel': 'rbf'}\n",
      "0.610 (+/-0.026) for {'C': 0.5, 'kernel': 'sigmoid'}\n",
      "0.609 (+/-0.037) for {'C': 1.0, 'kernel': 'linear'}\n",
      "0.601 (+/-0.018) for {'C': 1.0, 'kernel': 'poly'}\n",
      "0.614 (+/-0.036) for {'C': 1.0, 'kernel': 'rbf'}\n",
      "0.615 (+/-0.034) for {'C': 1.0, 'kernel': 'sigmoid'}\n",
      "0.602 (+/-0.031) for {'C': 2.0, 'kernel': 'linear'}\n",
      "0.598 (+/-0.009) for {'C': 2.0, 'kernel': 'poly'}\n",
      "0.613 (+/-0.015) for {'C': 2.0, 'kernel': 'rbf'}\n",
      "0.601 (+/-0.036) for {'C': 2.0, 'kernel': 'sigmoid'}\n",
      "Results on the test set:\n",
      "              precision    recall  f1-score   support\n",
      "\n",
      "           0       0.71      0.63      0.67       473\n",
      "           1       0.52      0.61      0.56       311\n",
      "\n",
      "    accuracy                           0.62       784\n",
      "   macro avg       0.62      0.62      0.62       784\n",
      "weighted avg       0.64      0.62      0.63       784\n",
      "\n"
     ]
    }
   ],
   "source": [
    "svc_tunning_for_graph = findSVC(Train_X_Tfidf, Test_X_Tfidf, Train_Y, Test_Y)"
   ]
  },
  {
   "cell_type": "code",
   "execution_count": 143,
   "metadata": {},
   "outputs": [],
   "source": [
    "# import matplotlib.patches as mpatches\n",
    "\n",
    "# X = np.arange(3)\n",
    "# fig = plt.figure()\n",
    "# ax = fig.add_axes([0,0,1,1])\n",
    "# ax.bar(X + 0.5, svc_for_graph['accuracy'], color = '#003f5c', width = 0.25, tick_label=['DT', 'SVM', 'KNN'])\n",
    "# green_patch = mpatches.Patch(color='#ffa600', label='Oversampled dataset')\n",
    "\n",
    "# plt.legend(handles=[green_patch], bbox_to_anchor=(1.05, 1), loc='upper left', borderaxespad=0.)\n",
    "\n",
    "# plt.xlabel(\"Algorithm\")\n",
    "# plt.ylabel(\"Accuracy\")\n",
    "# plt.title(\"Accuracy obtained by each algorithm\")"
   ]
  },
  {
   "cell_type": "markdown",
   "metadata": {},
   "source": [
    "### Linear Model - Perceptron"
   ]
  },
  {
   "cell_type": "code",
   "execution_count": 145,
   "metadata": {},
   "outputs": [],
   "source": [
    "from sklearn.linear_model import Perceptron\n",
    "\n",
    "# Perceptron\n",
    "def perceptron(X_train, X_test, y_train, y_test):\n",
    "    classifier = Perceptron()\n",
    "    classifier.fit(X_train, y_train)\n",
    "    y_pred = classifier.predict(X_test)\n",
    "\n",
    "    print(\"Perceptron\")\n",
    "#     print(confusion_matrix(y_test, y_pred))\n",
    "#     print('Accuracy: ', accuracy_score(y_test, y_pred))\n",
    "#     print('Precision: ', precision_score(y_test, y_pred))\n",
    "#     print('Recall: ', recall_score(y_test, y_pred))\n",
    "#     print('F1: ', f1_score(y_test, y_pred))\n",
    "\n",
    "    print(classification_report(y_test, y_pred))\n",
    "    \n",
    "    conf_matrix = confusion_matrix(y_true=Test_Y, y_pred=y_pred)\n",
    "    fig, ax = plt.subplots(figsize=(7.5, 7.5))\n",
    "    ax.matshow(conf_matrix, cmap=plt.cm.Blues, alpha=0.3)\n",
    "    for i in range(conf_matrix.shape[0]):\n",
    "        for j in range(conf_matrix.shape[1]):\n",
    "            ax.text(x=j, y=i,s=conf_matrix[i, j], va='center', ha='center', size='xx-large')\n",
    "    plt.xlabel('Predictions', fontsize=18)\n",
    "    plt.ylabel('Actuals', fontsize=18)\n",
    "    plt.title('Confusion Matrix', fontsize=18)\n",
    "    plt.show()\n",
    "    \n",
    "    return classification_report(y_test, y_pred, output_dict=True)"
   ]
  },
  {
   "cell_type": "code",
   "execution_count": 146,
   "metadata": {},
   "outputs": [
    {
     "name": "stdout",
     "output_type": "stream",
     "text": [
      "Perceptron\n",
      "              precision    recall  f1-score   support\n",
      "\n",
      "           0       0.72      0.60      0.65       473\n",
      "           1       0.52      0.66      0.58       311\n",
      "\n",
      "    accuracy                           0.62       784\n",
      "   macro avg       0.62      0.63      0.62       784\n",
      "weighted avg       0.64      0.62      0.62       784\n",
      "\n"
     ]
    },
    {
     "data": {
      "image/png": "[encoded data removed]",
      "text/plain": [
       "<Figure size 540x540 with 1 Axes>"
      ]
     },
     "metadata": {},
     "output_type": "display_data"
    }
   ],
   "source": [
    "perceptron_default_for_graph = perceptron(Train_X_Tfidf, Test_X_Tfidf, Train_Y, Test_Y)"
   ]
  },
  {
   "cell_type": "markdown",
   "metadata": {},
   "source": [
    "### Neural Networks"
   ]
  },
  {
   "cell_type": "code",
   "execution_count": 101,
   "metadata": {},
   "outputs": [],
   "source": [
    "from sklearn.neural_network import MLPClassifier\n",
    "\n",
    "# classifier = MLPClassifier(activation='tanh', alpha=0.0001, hidden_layer_sizes=(50, 50, 50), learning_rate= 'adaptive', max_iter=200, solver='sgd')"
   ]
  },
  {
   "cell_type": "code",
   "execution_count": 151,
   "metadata": {},
   "outputs": [],
   "source": [
    "# Multi Layered Perceptron\n",
    "def mlp(X_train, X_test, y_train, y_test):\n",
    "    # 'activation': 'tanh', 'alpha': 0.05, 'hidden_layer_sizes': (50, 50, 50), 'learning_rate': 'adaptive', 'solver': 'sgd'\n",
    "    \n",
    "    MLPClassifier().fit(X_train, y_train)\n",
    "    \n",
    "    y_pred = classifier.predict(X_test)\n",
    "\n",
    "#     print(\"MLP activation='tanh', alpha=0.0001, hidden_layer_sizes=(50, 50, 50), learning_rate= 'adaptive', max_iter=200, solver='sgd'\")\n",
    "#     print(confusion_matrix(y_test, y_pred))\n",
    "#     print('Accuracy: ', accuracy_score(y_test, y_pred))\n",
    "#     print('Precision: ', precision_score(y_test, y_pred))\n",
    "#     print('Recall: ', recall_score(y_test, y_pred))\n",
    "#     print('F1: ', f1_score(y_test, y_pred))\n",
    "    \n",
    "    print(classification_report(y_test, y_pred))\n",
    "    \n",
    "    conf_matrix = confusion_matrix(y_true=Test_Y, y_pred=y_pred)\n",
    "    fig, ax = plt.subplots(figsize=(7.5, 7.5))\n",
    "    ax.matshow(conf_matrix, cmap=plt.cm.Blues, alpha=0.3)\n",
    "    for i in range(conf_matrix.shape[0]):\n",
    "        for j in range(conf_matrix.shape[1]):\n",
    "            ax.text(x=j, y=i,s=conf_matrix[i, j], va='center', ha='center', size='xx-large')\n",
    "    plt.xlabel('Predictions', fontsize=18)\n",
    "    plt.ylabel('Actuals', fontsize=18)\n",
    "    plt.title('Confusion Matrix', fontsize=18)\n",
    "    plt.show()\n",
    "    \n",
    "    return classification_report(y_test, y_pred, output_dict=True)"
   ]
  },
  {
   "cell_type": "code",
   "execution_count": 152,
   "metadata": {},
   "outputs": [
    {
     "name": "stdout",
     "output_type": "stream",
     "text": [
      "              precision    recall  f1-score   support\n",
      "\n",
      "           0       0.66      0.42      0.52       473\n",
      "           1       0.43      0.67      0.53       311\n",
      "\n",
      "    accuracy                           0.52       784\n",
      "   macro avg       0.55      0.55      0.52       784\n",
      "weighted avg       0.57      0.52      0.52       784\n",
      "\n"
     ]
    },
    {
     "data": {
      "image/png": "[encoded data removed]",
      "text/plain": [
       "<Figure size 540x540 with 1 Axes>"
      ]
     },
     "metadata": {},
     "output_type": "display_data"
    }
   ],
   "source": [
    "mlp_default_for_graph = mlp(Train_X_Tfidf, Test_X_Tfidf, Train_Y, Test_Y)"
   ]
  },
  {
   "cell_type": "code",
   "execution_count": 121,
   "metadata": {},
   "outputs": [],
   "source": [
    "# Finding the best parameters for MLP\n",
    "def findMlp(X_train, X_test, y_train, y_test):\n",
    "#     print(\"'hidden_layer_sizes': [(20,20), (50,50), (50,50,50), (10,10)],\")\n",
    "#     print(\"'activation': ['tanh'],\")\n",
    "#     print(\"'alpha': [0.05, 0.0001],\")\n",
    "#     print(\"'learning_rate': ['adaptive'],\")\n",
    "#     print(\"'max_iter': [200, 500],\")\n",
    "    \n",
    "    parameter_space = {\n",
    "        'hidden_layer_sizes': [(20,20), (50,50), (50,50,50), (10,10), (100)],\n",
    "        'activation': ['identity', 'logistic', 'tanh', 'relu'],\n",
    "        'solver': ['sgd'],\n",
    "        'alpha': [0.05, 0.0001],\n",
    "        'learning_rate': ['constant', 'invscaling', 'adaptive'],\n",
    "        'max_iter': [100, 200, 500],\n",
    "    }\n",
    "\n",
    "    clf = GridSearchCV(MLPClassifier(), parameter_space, n_jobs=-1, cv=3)\n",
    "    clf.fit(X_train, y_train)\n",
    "\n",
    "    # Best paramete set\n",
    "    print('Best parameters found:\\n', clf.best_params_)\n",
    "\n",
    "    # All results\n",
    "    means = clf.cv_results_['mean_test_score']\n",
    "    stds = clf.cv_results_['std_test_score']\n",
    "    for mean, std, params in zip(means, stds, clf.cv_results_['params']):\n",
    "        print(\"%0.3f (+/-%0.03f) for %r\" % (mean, std * 2, params))\n",
    "\n",
    "    y_true, y_pred = y_test , clf.predict(X_test)\n",
    "\n",
    "    print('Results on the test set:')\n",
    "    print(classification_report(y_true, y_pred))\n",
    "    \n",
    "    return classification_report(y_test, y_pred, output_dict=True)"
   ]
  },
  {
   "cell_type": "code",
   "execution_count": 122,
   "metadata": {},
   "outputs": [
    {
     "name": "stdout",
     "output_type": "stream",
     "text": [
      "Best parameters found:\n",
      " {'activation': 'identity', 'alpha': 0.05, 'hidden_layer_sizes': (10, 10), 'learning_rate': 'constant', 'max_iter': 100, 'solver': 'sgd'}\n",
      "0.515 (+/-0.044) for {'activation': 'identity', 'alpha': 0.05, 'hidden_layer_sizes': (20, 20), 'learning_rate': 'constant', 'max_iter': 100, 'solver': 'sgd'}\n",
      "0.501 (+/-0.019) for {'activation': 'identity', 'alpha': 0.05, 'hidden_layer_sizes': (20, 20), 'learning_rate': 'constant', 'max_iter': 200, 'solver': 'sgd'}\n",
      "0.529 (+/-0.010) for {'activation': 'identity', 'alpha': 0.05, 'hidden_layer_sizes': (20, 20), 'learning_rate': 'constant', 'max_iter': 500, 'solver': 'sgd'}\n",
      "0.500 (+/-0.000) for {'activation': 'identity', 'alpha': 0.05, 'hidden_layer_sizes': (20, 20), 'learning_rate': 'invscaling', 'max_iter': 100, 'solver': 'sgd'}\n",
      "0.500 (+/-0.000) for {'activation': 'identity', 'alpha': 0.05, 'hidden_layer_sizes': (20, 20), 'learning_rate': 'invscaling', 'max_iter': 200, 'solver': 'sgd'}\n",
      "0.500 (+/-0.001) for {'activation': 'identity', 'alpha': 0.05, 'hidden_layer_sizes': (20, 20), 'learning_rate': 'invscaling', 'max_iter': 500, 'solver': 'sgd'}\n",
      "0.527 (+/-0.014) for {'activation': 'identity', 'alpha': 0.05, 'hidden_layer_sizes': (20, 20), 'learning_rate': 'adaptive', 'max_iter': 100, 'solver': 'sgd'}\n",
      "0.512 (+/-0.027) for {'activation': 'identity', 'alpha': 0.05, 'hidden_layer_sizes': (20, 20), 'learning_rate': 'adaptive', 'max_iter': 200, 'solver': 'sgd'}\n",
      "0.504 (+/-0.048) for {'activation': 'identity', 'alpha': 0.05, 'hidden_layer_sizes': (20, 20), 'learning_rate': 'adaptive', 'max_iter': 500, 'solver': 'sgd'}\n",
      "0.512 (+/-0.026) for {'activation': 'identity', 'alpha': 0.05, 'hidden_layer_sizes': (50, 50), 'learning_rate': 'constant', 'max_iter': 100, 'solver': 'sgd'}\n",
      "0.491 (+/-0.013) for {'activation': 'identity', 'alpha': 0.05, 'hidden_layer_sizes': (50, 50), 'learning_rate': 'constant', 'max_iter': 200, 'solver': 'sgd'}\n",
      "0.500 (+/-0.015) for {'activation': 'identity', 'alpha': 0.05, 'hidden_layer_sizes': (50, 50), 'learning_rate': 'constant', 'max_iter': 500, 'solver': 'sgd'}\n",
      "0.506 (+/-0.015) for {'activation': 'identity', 'alpha': 0.05, 'hidden_layer_sizes': (50, 50), 'learning_rate': 'invscaling', 'max_iter': 100, 'solver': 'sgd'}\n",
      "0.504 (+/-0.013) for {'activation': 'identity', 'alpha': 0.05, 'hidden_layer_sizes': (50, 50), 'learning_rate': 'invscaling', 'max_iter': 200, 'solver': 'sgd'}\n",
      "0.499 (+/-0.000) for {'activation': 'identity', 'alpha': 0.05, 'hidden_layer_sizes': (50, 50), 'learning_rate': 'invscaling', 'max_iter': 500, 'solver': 'sgd'}\n",
      "0.522 (+/-0.028) for {'activation': 'identity', 'alpha': 0.05, 'hidden_layer_sizes': (50, 50), 'learning_rate': 'adaptive', 'max_iter': 100, 'solver': 'sgd'}\n",
      "0.510 (+/-0.052) for {'activation': 'identity', 'alpha': 0.05, 'hidden_layer_sizes': (50, 50), 'learning_rate': 'adaptive', 'max_iter': 200, 'solver': 'sgd'}\n",
      "0.512 (+/-0.031) for {'activation': 'identity', 'alpha': 0.05, 'hidden_layer_sizes': (50, 50), 'learning_rate': 'adaptive', 'max_iter': 500, 'solver': 'sgd'}\n",
      "0.515 (+/-0.016) for {'activation': 'identity', 'alpha': 0.05, 'hidden_layer_sizes': (50, 50, 50), 'learning_rate': 'constant', 'max_iter': 100, 'solver': 'sgd'}\n",
      "0.507 (+/-0.054) for {'activation': 'identity', 'alpha': 0.05, 'hidden_layer_sizes': (50, 50, 50), 'learning_rate': 'constant', 'max_iter': 200, 'solver': 'sgd'}\n",
      "0.512 (+/-0.013) for {'activation': 'identity', 'alpha': 0.05, 'hidden_layer_sizes': (50, 50, 50), 'learning_rate': 'constant', 'max_iter': 500, 'solver': 'sgd'}\n",
      "0.500 (+/-0.000) for {'activation': 'identity', 'alpha': 0.05, 'hidden_layer_sizes': (50, 50, 50), 'learning_rate': 'invscaling', 'max_iter': 100, 'solver': 'sgd'}\n",
      "0.499 (+/-0.001) for {'activation': 'identity', 'alpha': 0.05, 'hidden_layer_sizes': (50, 50, 50), 'learning_rate': 'invscaling', 'max_iter': 200, 'solver': 'sgd'}\n",
      "0.500 (+/-0.001) for {'activation': 'identity', 'alpha': 0.05, 'hidden_layer_sizes': (50, 50, 50), 'learning_rate': 'invscaling', 'max_iter': 500, 'solver': 'sgd'}\n",
      "0.504 (+/-0.012) for {'activation': 'identity', 'alpha': 0.05, 'hidden_layer_sizes': (50, 50, 50), 'learning_rate': 'adaptive', 'max_iter': 100, 'solver': 'sgd'}\n",
      "0.507 (+/-0.002) for {'activation': 'identity', 'alpha': 0.05, 'hidden_layer_sizes': (50, 50, 50), 'learning_rate': 'adaptive', 'max_iter': 200, 'solver': 'sgd'}\n",
      "0.505 (+/-0.020) for {'activation': 'identity', 'alpha': 0.05, 'hidden_layer_sizes': (50, 50, 50), 'learning_rate': 'adaptive', 'max_iter': 500, 'solver': 'sgd'}\n",
      "0.545 (+/-0.027) for {'activation': 'identity', 'alpha': 0.05, 'hidden_layer_sizes': (10, 10), 'learning_rate': 'constant', 'max_iter': 100, 'solver': 'sgd'}\n",
      "0.520 (+/-0.023) for {'activation': 'identity', 'alpha': 0.05, 'hidden_layer_sizes': (10, 10), 'learning_rate': 'constant', 'max_iter': 200, 'solver': 'sgd'}\n",
      "0.516 (+/-0.021) for {'activation': 'identity', 'alpha': 0.05, 'hidden_layer_sizes': (10, 10), 'learning_rate': 'constant', 'max_iter': 500, 'solver': 'sgd'}\n",
      "0.497 (+/-0.007) for {'activation': 'identity', 'alpha': 0.05, 'hidden_layer_sizes': (10, 10), 'learning_rate': 'invscaling', 'max_iter': 100, 'solver': 'sgd'}\n",
      "0.500 (+/-0.000) for {'activation': 'identity', 'alpha': 0.05, 'hidden_layer_sizes': (10, 10), 'learning_rate': 'invscaling', 'max_iter': 200, 'solver': 'sgd'}\n",
      "0.500 (+/-0.001) for {'activation': 'identity', 'alpha': 0.05, 'hidden_layer_sizes': (10, 10), 'learning_rate': 'invscaling', 'max_iter': 500, 'solver': 'sgd'}\n",
      "0.536 (+/-0.083) for {'activation': 'identity', 'alpha': 0.05, 'hidden_layer_sizes': (10, 10), 'learning_rate': 'adaptive', 'max_iter': 100, 'solver': 'sgd'}\n",
      "0.517 (+/-0.010) for {'activation': 'identity', 'alpha': 0.05, 'hidden_layer_sizes': (10, 10), 'learning_rate': 'adaptive', 'max_iter': 200, 'solver': 'sgd'}\n",
      "0.529 (+/-0.011) for {'activation': 'identity', 'alpha': 0.05, 'hidden_layer_sizes': (10, 10), 'learning_rate': 'adaptive', 'max_iter': 500, 'solver': 'sgd'}\n",
      "0.504 (+/-0.033) for {'activation': 'identity', 'alpha': 0.05, 'hidden_layer_sizes': 100, 'learning_rate': 'constant', 'max_iter': 100, 'solver': 'sgd'}\n",
      "0.520 (+/-0.013) for {'activation': 'identity', 'alpha': 0.05, 'hidden_layer_sizes': 100, 'learning_rate': 'constant', 'max_iter': 200, 'solver': 'sgd'}\n",
      "0.529 (+/-0.038) for {'activation': 'identity', 'alpha': 0.05, 'hidden_layer_sizes': 100, 'learning_rate': 'constant', 'max_iter': 500, 'solver': 'sgd'}\n",
      "0.500 (+/-0.000) for {'activation': 'identity', 'alpha': 0.05, 'hidden_layer_sizes': 100, 'learning_rate': 'invscaling', 'max_iter': 100, 'solver': 'sgd'}\n",
      "0.501 (+/-0.003) for {'activation': 'identity', 'alpha': 0.05, 'hidden_layer_sizes': 100, 'learning_rate': 'invscaling', 'max_iter': 200, 'solver': 'sgd'}\n",
      "0.500 (+/-0.001) for {'activation': 'identity', 'alpha': 0.05, 'hidden_layer_sizes': 100, 'learning_rate': 'invscaling', 'max_iter': 500, 'solver': 'sgd'}\n",
      "0.523 (+/-0.015) for {'activation': 'identity', 'alpha': 0.05, 'hidden_layer_sizes': 100, 'learning_rate': 'adaptive', 'max_iter': 100, 'solver': 'sgd'}\n",
      "0.518 (+/-0.014) for {'activation': 'identity', 'alpha': 0.05, 'hidden_layer_sizes': 100, 'learning_rate': 'adaptive', 'max_iter': 200, 'solver': 'sgd'}\n",
      "0.516 (+/-0.031) for {'activation': 'identity', 'alpha': 0.05, 'hidden_layer_sizes': 100, 'learning_rate': 'adaptive', 'max_iter': 500, 'solver': 'sgd'}\n",
      "0.505 (+/-0.028) for {'activation': 'identity', 'alpha': 0.0001, 'hidden_layer_sizes': (20, 20), 'learning_rate': 'constant', 'max_iter': 100, 'solver': 'sgd'}\n",
      "0.513 (+/-0.010) for {'activation': 'identity', 'alpha': 0.0001, 'hidden_layer_sizes': (20, 20), 'learning_rate': 'constant', 'max_iter': 200, 'solver': 'sgd'}\n",
      "0.509 (+/-0.003) for {'activation': 'identity', 'alpha': 0.0001, 'hidden_layer_sizes': (20, 20), 'learning_rate': 'constant', 'max_iter': 500, 'solver': 'sgd'}\n",
      "0.502 (+/-0.006) for {'activation': 'identity', 'alpha': 0.0001, 'hidden_layer_sizes': (20, 20), 'learning_rate': 'invscaling', 'max_iter': 100, 'solver': 'sgd'}\n",
      "0.500 (+/-0.000) for {'activation': 'identity', 'alpha': 0.0001, 'hidden_layer_sizes': (20, 20), 'learning_rate': 'invscaling', 'max_iter': 200, 'solver': 'sgd'}\n",
      "0.500 (+/-0.000) for {'activation': 'identity', 'alpha': 0.0001, 'hidden_layer_sizes': (20, 20), 'learning_rate': 'invscaling', 'max_iter': 500, 'solver': 'sgd'}\n",
      "0.542 (+/-0.023) for {'activation': 'identity', 'alpha': 0.0001, 'hidden_layer_sizes': (20, 20), 'learning_rate': 'adaptive', 'max_iter': 100, 'solver': 'sgd'}\n",
      "0.517 (+/-0.013) for {'activation': 'identity', 'alpha': 0.0001, 'hidden_layer_sizes': (20, 20), 'learning_rate': 'adaptive', 'max_iter': 200, 'solver': 'sgd'}\n",
      "0.508 (+/-0.006) for {'activation': 'identity', 'alpha': 0.0001, 'hidden_layer_sizes': (20, 20), 'learning_rate': 'adaptive', 'max_iter': 500, 'solver': 'sgd'}\n",
      "0.512 (+/-0.020) for {'activation': 'identity', 'alpha': 0.0001, 'hidden_layer_sizes': (50, 50), 'learning_rate': 'constant', 'max_iter': 100, 'solver': 'sgd'}\n",
      "0.515 (+/-0.008) for {'activation': 'identity', 'alpha': 0.0001, 'hidden_layer_sizes': (50, 50), 'learning_rate': 'constant', 'max_iter': 200, 'solver': 'sgd'}\n",
      "0.502 (+/-0.050) for {'activation': 'identity', 'alpha': 0.0001, 'hidden_layer_sizes': (50, 50), 'learning_rate': 'constant', 'max_iter': 500, 'solver': 'sgd'}\n",
      "0.503 (+/-0.009) for {'activation': 'identity', 'alpha': 0.0001, 'hidden_layer_sizes': (50, 50), 'learning_rate': 'invscaling', 'max_iter': 100, 'solver': 'sgd'}\n",
      "0.499 (+/-0.002) for {'activation': 'identity', 'alpha': 0.0001, 'hidden_layer_sizes': (50, 50), 'learning_rate': 'invscaling', 'max_iter': 200, 'solver': 'sgd'}\n",
      "0.503 (+/-0.012) for {'activation': 'identity', 'alpha': 0.0001, 'hidden_layer_sizes': (50, 50), 'learning_rate': 'invscaling', 'max_iter': 500, 'solver': 'sgd'}\n",
      "0.517 (+/-0.018) for {'activation': 'identity', 'alpha': 0.0001, 'hidden_layer_sizes': (50, 50), 'learning_rate': 'adaptive', 'max_iter': 100, 'solver': 'sgd'}\n",
      "0.515 (+/-0.020) for {'activation': 'identity', 'alpha': 0.0001, 'hidden_layer_sizes': (50, 50), 'learning_rate': 'adaptive', 'max_iter': 200, 'solver': 'sgd'}\n",
      "0.510 (+/-0.025) for {'activation': 'identity', 'alpha': 0.0001, 'hidden_layer_sizes': (50, 50), 'learning_rate': 'adaptive', 'max_iter': 500, 'solver': 'sgd'}\n",
      "0.524 (+/-0.014) for {'activation': 'identity', 'alpha': 0.0001, 'hidden_layer_sizes': (50, 50, 50), 'learning_rate': 'constant', 'max_iter': 100, 'solver': 'sgd'}\n",
      "0.517 (+/-0.019) for {'activation': 'identity', 'alpha': 0.0001, 'hidden_layer_sizes': (50, 50, 50), 'learning_rate': 'constant', 'max_iter': 200, 'solver': 'sgd'}\n",
      "0.519 (+/-0.024) for {'activation': 'identity', 'alpha': 0.0001, 'hidden_layer_sizes': (50, 50, 50), 'learning_rate': 'constant', 'max_iter': 500, 'solver': 'sgd'}\n",
      "0.500 (+/-0.000) for {'activation': 'identity', 'alpha': 0.0001, 'hidden_layer_sizes': (50, 50, 50), 'learning_rate': 'invscaling', 'max_iter': 100, 'solver': 'sgd'}\n",
      "0.503 (+/-0.009) for {'activation': 'identity', 'alpha': 0.0001, 'hidden_layer_sizes': (50, 50, 50), 'learning_rate': 'invscaling', 'max_iter': 200, 'solver': 'sgd'}\n",
      "0.499 (+/-0.004) for {'activation': 'identity', 'alpha': 0.0001, 'hidden_layer_sizes': (50, 50, 50), 'learning_rate': 'invscaling', 'max_iter': 500, 'solver': 'sgd'}\n",
      "0.504 (+/-0.030) for {'activation': 'identity', 'alpha': 0.0001, 'hidden_layer_sizes': (50, 50, 50), 'learning_rate': 'adaptive', 'max_iter': 100, 'solver': 'sgd'}\n",
      "0.527 (+/-0.032) for {'activation': 'identity', 'alpha': 0.0001, 'hidden_layer_sizes': (50, 50, 50), 'learning_rate': 'adaptive', 'max_iter': 200, 'solver': 'sgd'}\n",
      "0.510 (+/-0.045) for {'activation': 'identity', 'alpha': 0.0001, 'hidden_layer_sizes': (50, 50, 50), 'learning_rate': 'adaptive', 'max_iter': 500, 'solver': 'sgd'}\n",
      "0.507 (+/-0.015) for {'activation': 'identity', 'alpha': 0.0001, 'hidden_layer_sizes': (10, 10), 'learning_rate': 'constant', 'max_iter': 100, 'solver': 'sgd'}\n",
      "0.538 (+/-0.070) for {'activation': 'identity', 'alpha': 0.0001, 'hidden_layer_sizes': (10, 10), 'learning_rate': 'constant', 'max_iter': 200, 'solver': 'sgd'}\n",
      "0.523 (+/-0.013) for {'activation': 'identity', 'alpha': 0.0001, 'hidden_layer_sizes': (10, 10), 'learning_rate': 'constant', 'max_iter': 500, 'solver': 'sgd'}\n",
      "0.500 (+/-0.000) for {'activation': 'identity', 'alpha': 0.0001, 'hidden_layer_sizes': (10, 10), 'learning_rate': 'invscaling', 'max_iter': 100, 'solver': 'sgd'}\n",
      "0.500 (+/-0.001) for {'activation': 'identity', 'alpha': 0.0001, 'hidden_layer_sizes': (10, 10), 'learning_rate': 'invscaling', 'max_iter': 200, 'solver': 'sgd'}\n",
      "0.495 (+/-0.008) for {'activation': 'identity', 'alpha': 0.0001, 'hidden_layer_sizes': (10, 10), 'learning_rate': 'invscaling', 'max_iter': 500, 'solver': 'sgd'}\n",
      "0.535 (+/-0.037) for {'activation': 'identity', 'alpha': 0.0001, 'hidden_layer_sizes': (10, 10), 'learning_rate': 'adaptive', 'max_iter': 100, 'solver': 'sgd'}\n",
      "0.512 (+/-0.011) for {'activation': 'identity', 'alpha': 0.0001, 'hidden_layer_sizes': (10, 10), 'learning_rate': 'adaptive', 'max_iter': 200, 'solver': 'sgd'}\n",
      "0.523 (+/-0.032) for {'activation': 'identity', 'alpha': 0.0001, 'hidden_layer_sizes': (10, 10), 'learning_rate': 'adaptive', 'max_iter': 500, 'solver': 'sgd'}\n",
      "0.518 (+/-0.045) for {'activation': 'identity', 'alpha': 0.0001, 'hidden_layer_sizes': 100, 'learning_rate': 'constant', 'max_iter': 100, 'solver': 'sgd'}\n",
      "0.513 (+/-0.024) for {'activation': 'identity', 'alpha': 0.0001, 'hidden_layer_sizes': 100, 'learning_rate': 'constant', 'max_iter': 200, 'solver': 'sgd'}\n",
      "0.510 (+/-0.022) for {'activation': 'identity', 'alpha': 0.0001, 'hidden_layer_sizes': 100, 'learning_rate': 'constant', 'max_iter': 500, 'solver': 'sgd'}\n",
      "0.500 (+/-0.003) for {'activation': 'identity', 'alpha': 0.0001, 'hidden_layer_sizes': 100, 'learning_rate': 'invscaling', 'max_iter': 100, 'solver': 'sgd'}\n",
      "0.500 (+/-0.001) for {'activation': 'identity', 'alpha': 0.0001, 'hidden_layer_sizes': 100, 'learning_rate': 'invscaling', 'max_iter': 200, 'solver': 'sgd'}\n",
      "0.500 (+/-0.001) for {'activation': 'identity', 'alpha': 0.0001, 'hidden_layer_sizes': 100, 'learning_rate': 'invscaling', 'max_iter': 500, 'solver': 'sgd'}\n",
      "0.517 (+/-0.024) for {'activation': 'identity', 'alpha': 0.0001, 'hidden_layer_sizes': 100, 'learning_rate': 'adaptive', 'max_iter': 100, 'solver': 'sgd'}\n",
      "0.516 (+/-0.012) for {'activation': 'identity', 'alpha': 0.0001, 'hidden_layer_sizes': 100, 'learning_rate': 'adaptive', 'max_iter': 200, 'solver': 'sgd'}\n",
      "0.523 (+/-0.034) for {'activation': 'identity', 'alpha': 0.0001, 'hidden_layer_sizes': 100, 'learning_rate': 'adaptive', 'max_iter': 500, 'solver': 'sgd'}\n",
      "0.510 (+/-0.030) for {'activation': 'logistic', 'alpha': 0.05, 'hidden_layer_sizes': (20, 20), 'learning_rate': 'constant', 'max_iter': 100, 'solver': 'sgd'}\n",
      "0.500 (+/-0.001) for {'activation': 'logistic', 'alpha': 0.05, 'hidden_layer_sizes': (20, 20), 'learning_rate': 'constant', 'max_iter': 200, 'solver': 'sgd'}\n",
      "0.499 (+/-0.003) for {'activation': 'logistic', 'alpha': 0.05, 'hidden_layer_sizes': (20, 20), 'learning_rate': 'constant', 'max_iter': 500, 'solver': 'sgd'}\n",
      "0.500 (+/-0.000) for {'activation': 'logistic', 'alpha': 0.05, 'hidden_layer_sizes': (20, 20), 'learning_rate': 'invscaling', 'max_iter': 100, 'solver': 'sgd'}\n",
      "0.500 (+/-0.001) for {'activation': 'logistic', 'alpha': 0.05, 'hidden_layer_sizes': (20, 20), 'learning_rate': 'invscaling', 'max_iter': 200, 'solver': 'sgd'}\n",
      "0.500 (+/-0.001) for {'activation': 'logistic', 'alpha': 0.05, 'hidden_layer_sizes': (20, 20), 'learning_rate': 'invscaling', 'max_iter': 500, 'solver': 'sgd'}\n",
      "0.503 (+/-0.005) for {'activation': 'logistic', 'alpha': 0.05, 'hidden_layer_sizes': (20, 20), 'learning_rate': 'adaptive', 'max_iter': 100, 'solver': 'sgd'}\n",
      "0.492 (+/-0.023) for {'activation': 'logistic', 'alpha': 0.05, 'hidden_layer_sizes': (20, 20), 'learning_rate': 'adaptive', 'max_iter': 200, 'solver': 'sgd'}\n",
      "0.497 (+/-0.005) for {'activation': 'logistic', 'alpha': 0.05, 'hidden_layer_sizes': (20, 20), 'learning_rate': 'adaptive', 'max_iter': 500, 'solver': 'sgd'}\n",
      "0.500 (+/-0.001) for {'activation': 'logistic', 'alpha': 0.05, 'hidden_layer_sizes': (50, 50), 'learning_rate': 'constant', 'max_iter': 100, 'solver': 'sgd'}\n",
      "0.503 (+/-0.009) for {'activation': 'logistic', 'alpha': 0.05, 'hidden_layer_sizes': (50, 50), 'learning_rate': 'constant', 'max_iter': 200, 'solver': 'sgd'}\n",
      "0.500 (+/-0.000) for {'activation': 'logistic', 'alpha': 0.05, 'hidden_layer_sizes': (50, 50), 'learning_rate': 'constant', 'max_iter': 500, 'solver': 'sgd'}\n",
      "0.500 (+/-0.001) for {'activation': 'logistic', 'alpha': 0.05, 'hidden_layer_sizes': (50, 50), 'learning_rate': 'invscaling', 'max_iter': 100, 'solver': 'sgd'}\n",
      "0.500 (+/-0.001) for {'activation': 'logistic', 'alpha': 0.05, 'hidden_layer_sizes': (50, 50), 'learning_rate': 'invscaling', 'max_iter': 200, 'solver': 'sgd'}\n",
      "0.500 (+/-0.001) for {'activation': 'logistic', 'alpha': 0.05, 'hidden_layer_sizes': (50, 50), 'learning_rate': 'invscaling', 'max_iter': 500, 'solver': 'sgd'}\n",
      "0.503 (+/-0.010) for {'activation': 'logistic', 'alpha': 0.05, 'hidden_layer_sizes': (50, 50), 'learning_rate': 'adaptive', 'max_iter': 100, 'solver': 'sgd'}\n",
      "0.501 (+/-0.006) for {'activation': 'logistic', 'alpha': 0.05, 'hidden_layer_sizes': (50, 50), 'learning_rate': 'adaptive', 'max_iter': 200, 'solver': 'sgd'}\n",
      "0.493 (+/-0.010) for {'activation': 'logistic', 'alpha': 0.05, 'hidden_layer_sizes': (50, 50), 'learning_rate': 'adaptive', 'max_iter': 500, 'solver': 'sgd'}\n",
      "0.500 (+/-0.001) for {'activation': 'logistic', 'alpha': 0.05, 'hidden_layer_sizes': (50, 50, 50), 'learning_rate': 'constant', 'max_iter': 100, 'solver': 'sgd'}\n",
      "0.500 (+/-0.000) for {'activation': 'logistic', 'alpha': 0.05, 'hidden_layer_sizes': (50, 50, 50), 'learning_rate': 'constant', 'max_iter': 200, 'solver': 'sgd'}\n",
      "0.500 (+/-0.001) for {'activation': 'logistic', 'alpha': 0.05, 'hidden_layer_sizes': (50, 50, 50), 'learning_rate': 'constant', 'max_iter': 500, 'solver': 'sgd'}\n",
      "0.500 (+/-0.000) for {'activation': 'logistic', 'alpha': 0.05, 'hidden_layer_sizes': (50, 50, 50), 'learning_rate': 'invscaling', 'max_iter': 100, 'solver': 'sgd'}\n",
      "0.500 (+/-0.001) for {'activation': 'logistic', 'alpha': 0.05, 'hidden_layer_sizes': (50, 50, 50), 'learning_rate': 'invscaling', 'max_iter': 200, 'solver': 'sgd'}\n",
      "0.500 (+/-0.000) for {'activation': 'logistic', 'alpha': 0.05, 'hidden_layer_sizes': (50, 50, 50), 'learning_rate': 'invscaling', 'max_iter': 500, 'solver': 'sgd'}\n",
      "0.500 (+/-0.000) for {'activation': 'logistic', 'alpha': 0.05, 'hidden_layer_sizes': (50, 50, 50), 'learning_rate': 'adaptive', 'max_iter': 100, 'solver': 'sgd'}\n",
      "0.500 (+/-0.001) for {'activation': 'logistic', 'alpha': 0.05, 'hidden_layer_sizes': (50, 50, 50), 'learning_rate': 'adaptive', 'max_iter': 200, 'solver': 'sgd'}\n",
      "0.500 (+/-0.001) for {'activation': 'logistic', 'alpha': 0.05, 'hidden_layer_sizes': (50, 50, 50), 'learning_rate': 'adaptive', 'max_iter': 500, 'solver': 'sgd'}\n",
      "0.500 (+/-0.000) for {'activation': 'logistic', 'alpha': 0.05, 'hidden_layer_sizes': (10, 10), 'learning_rate': 'constant', 'max_iter': 100, 'solver': 'sgd'}\n",
      "0.500 (+/-0.000) for {'activation': 'logistic', 'alpha': 0.05, 'hidden_layer_sizes': (10, 10), 'learning_rate': 'constant', 'max_iter': 200, 'solver': 'sgd'}\n",
      "0.500 (+/-0.000) for {'activation': 'logistic', 'alpha': 0.05, 'hidden_layer_sizes': (10, 10), 'learning_rate': 'constant', 'max_iter': 500, 'solver': 'sgd'}\n",
      "0.500 (+/-0.000) for {'activation': 'logistic', 'alpha': 0.05, 'hidden_layer_sizes': (10, 10), 'learning_rate': 'invscaling', 'max_iter': 100, 'solver': 'sgd'}\n",
      "0.500 (+/-0.001) for {'activation': 'logistic', 'alpha': 0.05, 'hidden_layer_sizes': (10, 10), 'learning_rate': 'invscaling', 'max_iter': 200, 'solver': 'sgd'}\n",
      "0.500 (+/-0.000) for {'activation': 'logistic', 'alpha': 0.05, 'hidden_layer_sizes': (10, 10), 'learning_rate': 'invscaling', 'max_iter': 500, 'solver': 'sgd'}\n",
      "0.500 (+/-0.000) for {'activation': 'logistic', 'alpha': 0.05, 'hidden_layer_sizes': (10, 10), 'learning_rate': 'adaptive', 'max_iter': 100, 'solver': 'sgd'}\n",
      "0.500 (+/-0.000) for {'activation': 'logistic', 'alpha': 0.05, 'hidden_layer_sizes': (10, 10), 'learning_rate': 'adaptive', 'max_iter': 200, 'solver': 'sgd'}\n",
      "0.500 (+/-0.000) for {'activation': 'logistic', 'alpha': 0.05, 'hidden_layer_sizes': (10, 10), 'learning_rate': 'adaptive', 'max_iter': 500, 'solver': 'sgd'}\n",
      "0.501 (+/-0.005) for {'activation': 'logistic', 'alpha': 0.05, 'hidden_layer_sizes': 100, 'learning_rate': 'constant', 'max_iter': 100, 'solver': 'sgd'}\n",
      "0.499 (+/-0.004) for {'activation': 'logistic', 'alpha': 0.05, 'hidden_layer_sizes': 100, 'learning_rate': 'constant', 'max_iter': 200, 'solver': 'sgd'}\n",
      "0.496 (+/-0.009) for {'activation': 'logistic', 'alpha': 0.05, 'hidden_layer_sizes': 100, 'learning_rate': 'constant', 'max_iter': 500, 'solver': 'sgd'}\n",
      "0.500 (+/-0.001) for {'activation': 'logistic', 'alpha': 0.05, 'hidden_layer_sizes': 100, 'learning_rate': 'invscaling', 'max_iter': 100, 'solver': 'sgd'}\n",
      "0.500 (+/-0.000) for {'activation': 'logistic', 'alpha': 0.05, 'hidden_layer_sizes': 100, 'learning_rate': 'invscaling', 'max_iter': 200, 'solver': 'sgd'}\n",
      "0.499 (+/-0.004) for {'activation': 'logistic', 'alpha': 0.05, 'hidden_layer_sizes': 100, 'learning_rate': 'invscaling', 'max_iter': 500, 'solver': 'sgd'}\n",
      "0.489 (+/-0.008) for {'activation': 'logistic', 'alpha': 0.05, 'hidden_layer_sizes': 100, 'learning_rate': 'adaptive', 'max_iter': 100, 'solver': 'sgd'}\n",
      "0.505 (+/-0.008) for {'activation': 'logistic', 'alpha': 0.05, 'hidden_layer_sizes': 100, 'learning_rate': 'adaptive', 'max_iter': 200, 'solver': 'sgd'}\n",
      "0.507 (+/-0.035) for {'activation': 'logistic', 'alpha': 0.05, 'hidden_layer_sizes': 100, 'learning_rate': 'adaptive', 'max_iter': 500, 'solver': 'sgd'}\n",
      "0.500 (+/-0.001) for {'activation': 'logistic', 'alpha': 0.0001, 'hidden_layer_sizes': (20, 20), 'learning_rate': 'constant', 'max_iter': 100, 'solver': 'sgd'}\n",
      "0.500 (+/-0.001) for {'activation': 'logistic', 'alpha': 0.0001, 'hidden_layer_sizes': (20, 20), 'learning_rate': 'constant', 'max_iter': 200, 'solver': 'sgd'}\n",
      "0.496 (+/-0.012) for {'activation': 'logistic', 'alpha': 0.0001, 'hidden_layer_sizes': (20, 20), 'learning_rate': 'constant', 'max_iter': 500, 'solver': 'sgd'}\n",
      "0.500 (+/-0.001) for {'activation': 'logistic', 'alpha': 0.0001, 'hidden_layer_sizes': (20, 20), 'learning_rate': 'invscaling', 'max_iter': 100, 'solver': 'sgd'}\n",
      "0.500 (+/-0.000) for {'activation': 'logistic', 'alpha': 0.0001, 'hidden_layer_sizes': (20, 20), 'learning_rate': 'invscaling', 'max_iter': 200, 'solver': 'sgd'}\n",
      "0.500 (+/-0.001) for {'activation': 'logistic', 'alpha': 0.0001, 'hidden_layer_sizes': (20, 20), 'learning_rate': 'invscaling', 'max_iter': 500, 'solver': 'sgd'}\n",
      "0.501 (+/-0.002) for {'activation': 'logistic', 'alpha': 0.0001, 'hidden_layer_sizes': (20, 20), 'learning_rate': 'adaptive', 'max_iter': 100, 'solver': 'sgd'}\n",
      "0.497 (+/-0.005) for {'activation': 'logistic', 'alpha': 0.0001, 'hidden_layer_sizes': (20, 20), 'learning_rate': 'adaptive', 'max_iter': 200, 'solver': 'sgd'}\n",
      "0.494 (+/-0.017) for {'activation': 'logistic', 'alpha': 0.0001, 'hidden_layer_sizes': (20, 20), 'learning_rate': 'adaptive', 'max_iter': 500, 'solver': 'sgd'}\n",
      "0.500 (+/-0.001) for {'activation': 'logistic', 'alpha': 0.0001, 'hidden_layer_sizes': (50, 50), 'learning_rate': 'constant', 'max_iter': 100, 'solver': 'sgd'}\n",
      "0.500 (+/-0.001) for {'activation': 'logistic', 'alpha': 0.0001, 'hidden_layer_sizes': (50, 50), 'learning_rate': 'constant', 'max_iter': 200, 'solver': 'sgd'}\n",
      "0.500 (+/-0.001) for {'activation': 'logistic', 'alpha': 0.0001, 'hidden_layer_sizes': (50, 50), 'learning_rate': 'constant', 'max_iter': 500, 'solver': 'sgd'}\n",
      "0.500 (+/-0.001) for {'activation': 'logistic', 'alpha': 0.0001, 'hidden_layer_sizes': (50, 50), 'learning_rate': 'invscaling', 'max_iter': 100, 'solver': 'sgd'}\n",
      "0.500 (+/-0.000) for {'activation': 'logistic', 'alpha': 0.0001, 'hidden_layer_sizes': (50, 50), 'learning_rate': 'invscaling', 'max_iter': 200, 'solver': 'sgd'}\n",
      "0.500 (+/-0.000) for {'activation': 'logistic', 'alpha': 0.0001, 'hidden_layer_sizes': (50, 50), 'learning_rate': 'invscaling', 'max_iter': 500, 'solver': 'sgd'}\n",
      "0.516 (+/-0.036) for {'activation': 'logistic', 'alpha': 0.0001, 'hidden_layer_sizes': (50, 50), 'learning_rate': 'adaptive', 'max_iter': 100, 'solver': 'sgd'}\n",
      "0.496 (+/-0.011) for {'activation': 'logistic', 'alpha': 0.0001, 'hidden_layer_sizes': (50, 50), 'learning_rate': 'adaptive', 'max_iter': 200, 'solver': 'sgd'}\n",
      "0.488 (+/-0.031) for {'activation': 'logistic', 'alpha': 0.0001, 'hidden_layer_sizes': (50, 50), 'learning_rate': 'adaptive', 'max_iter': 500, 'solver': 'sgd'}\n",
      "0.500 (+/-0.001) for {'activation': 'logistic', 'alpha': 0.0001, 'hidden_layer_sizes': (50, 50, 50), 'learning_rate': 'constant', 'max_iter': 100, 'solver': 'sgd'}\n",
      "0.500 (+/-0.001) for {'activation': 'logistic', 'alpha': 0.0001, 'hidden_layer_sizes': (50, 50, 50), 'learning_rate': 'constant', 'max_iter': 200, 'solver': 'sgd'}\n",
      "0.500 (+/-0.001) for {'activation': 'logistic', 'alpha': 0.0001, 'hidden_layer_sizes': (50, 50, 50), 'learning_rate': 'constant', 'max_iter': 500, 'solver': 'sgd'}\n",
      "0.500 (+/-0.000) for {'activation': 'logistic', 'alpha': 0.0001, 'hidden_layer_sizes': (50, 50, 50), 'learning_rate': 'invscaling', 'max_iter': 100, 'solver': 'sgd'}\n",
      "0.500 (+/-0.000) for {'activation': 'logistic', 'alpha': 0.0001, 'hidden_layer_sizes': (50, 50, 50), 'learning_rate': 'invscaling', 'max_iter': 200, 'solver': 'sgd'}\n",
      "0.500 (+/-0.000) for {'activation': 'logistic', 'alpha': 0.0001, 'hidden_layer_sizes': (50, 50, 50), 'learning_rate': 'invscaling', 'max_iter': 500, 'solver': 'sgd'}\n",
      "0.500 (+/-0.000) for {'activation': 'logistic', 'alpha': 0.0001, 'hidden_layer_sizes': (50, 50, 50), 'learning_rate': 'adaptive', 'max_iter': 100, 'solver': 'sgd'}\n",
      "0.500 (+/-0.001) for {'activation': 'logistic', 'alpha': 0.0001, 'hidden_layer_sizes': (50, 50, 50), 'learning_rate': 'adaptive', 'max_iter': 200, 'solver': 'sgd'}\n",
      "0.500 (+/-0.000) for {'activation': 'logistic', 'alpha': 0.0001, 'hidden_layer_sizes': (50, 50, 50), 'learning_rate': 'adaptive', 'max_iter': 500, 'solver': 'sgd'}\n",
      "0.500 (+/-0.000) for {'activation': 'logistic', 'alpha': 0.0001, 'hidden_layer_sizes': (10, 10), 'learning_rate': 'constant', 'max_iter': 100, 'solver': 'sgd'}\n",
      "0.500 (+/-0.001) for {'activation': 'logistic', 'alpha': 0.0001, 'hidden_layer_sizes': (10, 10), 'learning_rate': 'constant', 'max_iter': 200, 'solver': 'sgd'}\n",
      "0.500 (+/-0.001) for {'activation': 'logistic', 'alpha': 0.0001, 'hidden_layer_sizes': (10, 10), 'learning_rate': 'constant', 'max_iter': 500, 'solver': 'sgd'}\n",
      "0.500 (+/-0.001) for {'activation': 'logistic', 'alpha': 0.0001, 'hidden_layer_sizes': (10, 10), 'learning_rate': 'invscaling', 'max_iter': 100, 'solver': 'sgd'}\n",
      "0.500 (+/-0.000) for {'activation': 'logistic', 'alpha': 0.0001, 'hidden_layer_sizes': (10, 10), 'learning_rate': 'invscaling', 'max_iter': 200, 'solver': 'sgd'}\n",
      "0.500 (+/-0.001) for {'activation': 'logistic', 'alpha': 0.0001, 'hidden_layer_sizes': (10, 10), 'learning_rate': 'invscaling', 'max_iter': 500, 'solver': 'sgd'}\n",
      "0.500 (+/-0.000) for {'activation': 'logistic', 'alpha': 0.0001, 'hidden_layer_sizes': (10, 10), 'learning_rate': 'adaptive', 'max_iter': 100, 'solver': 'sgd'}\n",
      "0.500 (+/-0.001) for {'activation': 'logistic', 'alpha': 0.0001, 'hidden_layer_sizes': (10, 10), 'learning_rate': 'adaptive', 'max_iter': 200, 'solver': 'sgd'}\n",
      "0.500 (+/-0.000) for {'activation': 'logistic', 'alpha': 0.0001, 'hidden_layer_sizes': (10, 10), 'learning_rate': 'adaptive', 'max_iter': 500, 'solver': 'sgd'}\n",
      "0.506 (+/-0.018) for {'activation': 'logistic', 'alpha': 0.0001, 'hidden_layer_sizes': 100, 'learning_rate': 'constant', 'max_iter': 100, 'solver': 'sgd'}\n",
      "0.518 (+/-0.042) for {'activation': 'logistic', 'alpha': 0.0001, 'hidden_layer_sizes': 100, 'learning_rate': 'constant', 'max_iter': 200, 'solver': 'sgd'}\n",
      "0.497 (+/-0.011) for {'activation': 'logistic', 'alpha': 0.0001, 'hidden_layer_sizes': 100, 'learning_rate': 'constant', 'max_iter': 500, 'solver': 'sgd'}\n",
      "0.500 (+/-0.001) for {'activation': 'logistic', 'alpha': 0.0001, 'hidden_layer_sizes': 100, 'learning_rate': 'invscaling', 'max_iter': 100, 'solver': 'sgd'}\n",
      "0.500 (+/-0.000) for {'activation': 'logistic', 'alpha': 0.0001, 'hidden_layer_sizes': 100, 'learning_rate': 'invscaling', 'max_iter': 200, 'solver': 'sgd'}\n",
      "0.500 (+/-0.001) for {'activation': 'logistic', 'alpha': 0.0001, 'hidden_layer_sizes': 100, 'learning_rate': 'invscaling', 'max_iter': 500, 'solver': 'sgd'}\n",
      "0.500 (+/-0.031) for {'activation': 'logistic', 'alpha': 0.0001, 'hidden_layer_sizes': 100, 'learning_rate': 'adaptive', 'max_iter': 100, 'solver': 'sgd'}\n",
      "0.504 (+/-0.018) for {'activation': 'logistic', 'alpha': 0.0001, 'hidden_layer_sizes': 100, 'learning_rate': 'adaptive', 'max_iter': 200, 'solver': 'sgd'}\n",
      "0.503 (+/-0.013) for {'activation': 'logistic', 'alpha': 0.0001, 'hidden_layer_sizes': 100, 'learning_rate': 'adaptive', 'max_iter': 500, 'solver': 'sgd'}\n",
      "0.510 (+/-0.027) for {'activation': 'tanh', 'alpha': 0.05, 'hidden_layer_sizes': (20, 20), 'learning_rate': 'constant', 'max_iter': 100, 'solver': 'sgd'}\n",
      "0.520 (+/-0.020) for {'activation': 'tanh', 'alpha': 0.05, 'hidden_layer_sizes': (20, 20), 'learning_rate': 'constant', 'max_iter': 200, 'solver': 'sgd'}\n",
      "0.513 (+/-0.034) for {'activation': 'tanh', 'alpha': 0.05, 'hidden_layer_sizes': (20, 20), 'learning_rate': 'constant', 'max_iter': 500, 'solver': 'sgd'}\n",
      "0.497 (+/-0.009) for {'activation': 'tanh', 'alpha': 0.05, 'hidden_layer_sizes': (20, 20), 'learning_rate': 'invscaling', 'max_iter': 100, 'solver': 'sgd'}\n",
      "0.500 (+/-0.001) for {'activation': 'tanh', 'alpha': 0.05, 'hidden_layer_sizes': (20, 20), 'learning_rate': 'invscaling', 'max_iter': 200, 'solver': 'sgd'}\n",
      "0.500 (+/-0.001) for {'activation': 'tanh', 'alpha': 0.05, 'hidden_layer_sizes': (20, 20), 'learning_rate': 'invscaling', 'max_iter': 500, 'solver': 'sgd'}\n",
      "0.510 (+/-0.039) for {'activation': 'tanh', 'alpha': 0.05, 'hidden_layer_sizes': (20, 20), 'learning_rate': 'adaptive', 'max_iter': 100, 'solver': 'sgd'}\n",
      "0.509 (+/-0.012) for {'activation': 'tanh', 'alpha': 0.05, 'hidden_layer_sizes': (20, 20), 'learning_rate': 'adaptive', 'max_iter': 200, 'solver': 'sgd'}\n",
      "0.513 (+/-0.040) for {'activation': 'tanh', 'alpha': 0.05, 'hidden_layer_sizes': (20, 20), 'learning_rate': 'adaptive', 'max_iter': 500, 'solver': 'sgd'}\n",
      "0.506 (+/-0.033) for {'activation': 'tanh', 'alpha': 0.05, 'hidden_layer_sizes': (50, 50), 'learning_rate': 'constant', 'max_iter': 100, 'solver': 'sgd'}\n",
      "0.523 (+/-0.024) for {'activation': 'tanh', 'alpha': 0.05, 'hidden_layer_sizes': (50, 50), 'learning_rate': 'constant', 'max_iter': 200, 'solver': 'sgd'}\n",
      "0.513 (+/-0.017) for {'activation': 'tanh', 'alpha': 0.05, 'hidden_layer_sizes': (50, 50), 'learning_rate': 'constant', 'max_iter': 500, 'solver': 'sgd'}\n",
      "0.500 (+/-0.001) for {'activation': 'tanh', 'alpha': 0.05, 'hidden_layer_sizes': (50, 50), 'learning_rate': 'invscaling', 'max_iter': 100, 'solver': 'sgd'}\n",
      "0.504 (+/-0.012) for {'activation': 'tanh', 'alpha': 0.05, 'hidden_layer_sizes': (50, 50), 'learning_rate': 'invscaling', 'max_iter': 200, 'solver': 'sgd'}\n",
      "0.499 (+/-0.002) for {'activation': 'tanh', 'alpha': 0.05, 'hidden_layer_sizes': (50, 50), 'learning_rate': 'invscaling', 'max_iter': 500, 'solver': 'sgd'}\n",
      "0.512 (+/-0.036) for {'activation': 'tanh', 'alpha': 0.05, 'hidden_layer_sizes': (50, 50), 'learning_rate': 'adaptive', 'max_iter': 100, 'solver': 'sgd'}\n",
      "0.523 (+/-0.002) for {'activation': 'tanh', 'alpha': 0.05, 'hidden_layer_sizes': (50, 50), 'learning_rate': 'adaptive', 'max_iter': 200, 'solver': 'sgd'}\n",
      "0.513 (+/-0.027) for {'activation': 'tanh', 'alpha': 0.05, 'hidden_layer_sizes': (50, 50), 'learning_rate': 'adaptive', 'max_iter': 500, 'solver': 'sgd'}\n",
      "0.521 (+/-0.017) for {'activation': 'tanh', 'alpha': 0.05, 'hidden_layer_sizes': (50, 50, 50), 'learning_rate': 'constant', 'max_iter': 100, 'solver': 'sgd'}\n",
      "0.521 (+/-0.023) for {'activation': 'tanh', 'alpha': 0.05, 'hidden_layer_sizes': (50, 50, 50), 'learning_rate': 'constant', 'max_iter': 200, 'solver': 'sgd'}\n",
      "0.503 (+/-0.008) for {'activation': 'tanh', 'alpha': 0.05, 'hidden_layer_sizes': (50, 50, 50), 'learning_rate': 'constant', 'max_iter': 500, 'solver': 'sgd'}\n",
      "0.499 (+/-0.002) for {'activation': 'tanh', 'alpha': 0.05, 'hidden_layer_sizes': (50, 50, 50), 'learning_rate': 'invscaling', 'max_iter': 100, 'solver': 'sgd'}\n",
      "0.500 (+/-0.000) for {'activation': 'tanh', 'alpha': 0.05, 'hidden_layer_sizes': (50, 50, 50), 'learning_rate': 'invscaling', 'max_iter': 200, 'solver': 'sgd'}\n",
      "0.500 (+/-0.005) for {'activation': 'tanh', 'alpha': 0.05, 'hidden_layer_sizes': (50, 50, 50), 'learning_rate': 'invscaling', 'max_iter': 500, 'solver': 'sgd'}\n",
      "0.516 (+/-0.023) for {'activation': 'tanh', 'alpha': 0.05, 'hidden_layer_sizes': (50, 50, 50), 'learning_rate': 'adaptive', 'max_iter': 100, 'solver': 'sgd'}\n",
      "0.517 (+/-0.033) for {'activation': 'tanh', 'alpha': 0.05, 'hidden_layer_sizes': (50, 50, 50), 'learning_rate': 'adaptive', 'max_iter': 200, 'solver': 'sgd'}\n",
      "0.506 (+/-0.018) for {'activation': 'tanh', 'alpha': 0.05, 'hidden_layer_sizes': (50, 50, 50), 'learning_rate': 'adaptive', 'max_iter': 500, 'solver': 'sgd'}\n",
      "0.514 (+/-0.037) for {'activation': 'tanh', 'alpha': 0.05, 'hidden_layer_sizes': (10, 10), 'learning_rate': 'constant', 'max_iter': 100, 'solver': 'sgd'}\n",
      "0.540 (+/-0.092) for {'activation': 'tanh', 'alpha': 0.05, 'hidden_layer_sizes': (10, 10), 'learning_rate': 'constant', 'max_iter': 200, 'solver': 'sgd'}\n",
      "0.514 (+/-0.044) for {'activation': 'tanh', 'alpha': 0.05, 'hidden_layer_sizes': (10, 10), 'learning_rate': 'constant', 'max_iter': 500, 'solver': 'sgd'}\n",
      "0.500 (+/-0.000) for {'activation': 'tanh', 'alpha': 0.05, 'hidden_layer_sizes': (10, 10), 'learning_rate': 'invscaling', 'max_iter': 100, 'solver': 'sgd'}\n",
      "0.500 (+/-0.000) for {'activation': 'tanh', 'alpha': 0.05, 'hidden_layer_sizes': (10, 10), 'learning_rate': 'invscaling', 'max_iter': 200, 'solver': 'sgd'}\n",
      "0.500 (+/-0.000) for {'activation': 'tanh', 'alpha': 0.05, 'hidden_layer_sizes': (10, 10), 'learning_rate': 'invscaling', 'max_iter': 500, 'solver': 'sgd'}\n",
      "0.510 (+/-0.019) for {'activation': 'tanh', 'alpha': 0.05, 'hidden_layer_sizes': (10, 10), 'learning_rate': 'adaptive', 'max_iter': 100, 'solver': 'sgd'}\n",
      "0.505 (+/-0.030) for {'activation': 'tanh', 'alpha': 0.05, 'hidden_layer_sizes': (10, 10), 'learning_rate': 'adaptive', 'max_iter': 200, 'solver': 'sgd'}\n",
      "0.509 (+/-0.011) for {'activation': 'tanh', 'alpha': 0.05, 'hidden_layer_sizes': (10, 10), 'learning_rate': 'adaptive', 'max_iter': 500, 'solver': 'sgd'}\n",
      "0.514 (+/-0.017) for {'activation': 'tanh', 'alpha': 0.05, 'hidden_layer_sizes': 100, 'learning_rate': 'constant', 'max_iter': 100, 'solver': 'sgd'}\n",
      "0.517 (+/-0.024) for {'activation': 'tanh', 'alpha': 0.05, 'hidden_layer_sizes': 100, 'learning_rate': 'constant', 'max_iter': 200, 'solver': 'sgd'}\n",
      "0.529 (+/-0.027) for {'activation': 'tanh', 'alpha': 0.05, 'hidden_layer_sizes': 100, 'learning_rate': 'constant', 'max_iter': 500, 'solver': 'sgd'}\n",
      "0.499 (+/-0.000) for {'activation': 'tanh', 'alpha': 0.05, 'hidden_layer_sizes': 100, 'learning_rate': 'invscaling', 'max_iter': 100, 'solver': 'sgd'}\n",
      "0.500 (+/-0.001) for {'activation': 'tanh', 'alpha': 0.05, 'hidden_layer_sizes': 100, 'learning_rate': 'invscaling', 'max_iter': 200, 'solver': 'sgd'}\n",
      "0.496 (+/-0.011) for {'activation': 'tanh', 'alpha': 0.05, 'hidden_layer_sizes': 100, 'learning_rate': 'invscaling', 'max_iter': 500, 'solver': 'sgd'}\n",
      "0.502 (+/-0.047) for {'activation': 'tanh', 'alpha': 0.05, 'hidden_layer_sizes': 100, 'learning_rate': 'adaptive', 'max_iter': 100, 'solver': 'sgd'}\n",
      "0.522 (+/-0.028) for {'activation': 'tanh', 'alpha': 0.05, 'hidden_layer_sizes': 100, 'learning_rate': 'adaptive', 'max_iter': 200, 'solver': 'sgd'}\n",
      "0.520 (+/-0.022) for {'activation': 'tanh', 'alpha': 0.05, 'hidden_layer_sizes': 100, 'learning_rate': 'adaptive', 'max_iter': 500, 'solver': 'sgd'}\n",
      "0.502 (+/-0.023) for {'activation': 'tanh', 'alpha': 0.0001, 'hidden_layer_sizes': (20, 20), 'learning_rate': 'constant', 'max_iter': 100, 'solver': 'sgd'}\n",
      "0.516 (+/-0.030) for {'activation': 'tanh', 'alpha': 0.0001, 'hidden_layer_sizes': (20, 20), 'learning_rate': 'constant', 'max_iter': 200, 'solver': 'sgd'}\n",
      "0.523 (+/-0.011) for {'activation': 'tanh', 'alpha': 0.0001, 'hidden_layer_sizes': (20, 20), 'learning_rate': 'constant', 'max_iter': 500, 'solver': 'sgd'}\n",
      "0.500 (+/-0.000) for {'activation': 'tanh', 'alpha': 0.0001, 'hidden_layer_sizes': (20, 20), 'learning_rate': 'invscaling', 'max_iter': 100, 'solver': 'sgd'}\n",
      "0.501 (+/-0.002) for {'activation': 'tanh', 'alpha': 0.0001, 'hidden_layer_sizes': (20, 20), 'learning_rate': 'invscaling', 'max_iter': 200, 'solver': 'sgd'}\n",
      "0.500 (+/-0.001) for {'activation': 'tanh', 'alpha': 0.0001, 'hidden_layer_sizes': (20, 20), 'learning_rate': 'invscaling', 'max_iter': 500, 'solver': 'sgd'}\n",
      "0.516 (+/-0.017) for {'activation': 'tanh', 'alpha': 0.0001, 'hidden_layer_sizes': (20, 20), 'learning_rate': 'adaptive', 'max_iter': 100, 'solver': 'sgd'}\n",
      "0.503 (+/-0.038) for {'activation': 'tanh', 'alpha': 0.0001, 'hidden_layer_sizes': (20, 20), 'learning_rate': 'adaptive', 'max_iter': 200, 'solver': 'sgd'}\n",
      "0.504 (+/-0.027) for {'activation': 'tanh', 'alpha': 0.0001, 'hidden_layer_sizes': (20, 20), 'learning_rate': 'adaptive', 'max_iter': 500, 'solver': 'sgd'}\n",
      "0.506 (+/-0.017) for {'activation': 'tanh', 'alpha': 0.0001, 'hidden_layer_sizes': (50, 50), 'learning_rate': 'constant', 'max_iter': 100, 'solver': 'sgd'}\n",
      "0.520 (+/-0.014) for {'activation': 'tanh', 'alpha': 0.0001, 'hidden_layer_sizes': (50, 50), 'learning_rate': 'constant', 'max_iter': 200, 'solver': 'sgd'}\n",
      "0.515 (+/-0.008) for {'activation': 'tanh', 'alpha': 0.0001, 'hidden_layer_sizes': (50, 50), 'learning_rate': 'constant', 'max_iter': 500, 'solver': 'sgd'}\n",
      "0.500 (+/-0.000) for {'activation': 'tanh', 'alpha': 0.0001, 'hidden_layer_sizes': (50, 50), 'learning_rate': 'invscaling', 'max_iter': 100, 'solver': 'sgd'}\n",
      "0.499 (+/-0.004) for {'activation': 'tanh', 'alpha': 0.0001, 'hidden_layer_sizes': (50, 50), 'learning_rate': 'invscaling', 'max_iter': 200, 'solver': 'sgd'}\n",
      "0.497 (+/-0.006) for {'activation': 'tanh', 'alpha': 0.0001, 'hidden_layer_sizes': (50, 50), 'learning_rate': 'invscaling', 'max_iter': 500, 'solver': 'sgd'}\n",
      "0.516 (+/-0.033) for {'activation': 'tanh', 'alpha': 0.0001, 'hidden_layer_sizes': (50, 50), 'learning_rate': 'adaptive', 'max_iter': 100, 'solver': 'sgd'}\n",
      "0.519 (+/-0.006) for {'activation': 'tanh', 'alpha': 0.0001, 'hidden_layer_sizes': (50, 50), 'learning_rate': 'adaptive', 'max_iter': 200, 'solver': 'sgd'}\n",
      "0.504 (+/-0.019) for {'activation': 'tanh', 'alpha': 0.0001, 'hidden_layer_sizes': (50, 50), 'learning_rate': 'adaptive', 'max_iter': 500, 'solver': 'sgd'}\n",
      "0.502 (+/-0.020) for {'activation': 'tanh', 'alpha': 0.0001, 'hidden_layer_sizes': (50, 50, 50), 'learning_rate': 'constant', 'max_iter': 100, 'solver': 'sgd'}\n",
      "0.498 (+/-0.033) for {'activation': 'tanh', 'alpha': 0.0001, 'hidden_layer_sizes': (50, 50, 50), 'learning_rate': 'constant', 'max_iter': 200, 'solver': 'sgd'}\n",
      "0.501 (+/-0.042) for {'activation': 'tanh', 'alpha': 0.0001, 'hidden_layer_sizes': (50, 50, 50), 'learning_rate': 'constant', 'max_iter': 500, 'solver': 'sgd'}\n",
      "0.507 (+/-0.011) for {'activation': 'tanh', 'alpha': 0.0001, 'hidden_layer_sizes': (50, 50, 50), 'learning_rate': 'invscaling', 'max_iter': 100, 'solver': 'sgd'}\n",
      "0.500 (+/-0.001) for {'activation': 'tanh', 'alpha': 0.0001, 'hidden_layer_sizes': (50, 50, 50), 'learning_rate': 'invscaling', 'max_iter': 200, 'solver': 'sgd'}\n",
      "0.497 (+/-0.008) for {'activation': 'tanh', 'alpha': 0.0001, 'hidden_layer_sizes': (50, 50, 50), 'learning_rate': 'invscaling', 'max_iter': 500, 'solver': 'sgd'}\n",
      "0.504 (+/-0.035) for {'activation': 'tanh', 'alpha': 0.0001, 'hidden_layer_sizes': (50, 50, 50), 'learning_rate': 'adaptive', 'max_iter': 100, 'solver': 'sgd'}\n",
      "0.513 (+/-0.031) for {'activation': 'tanh', 'alpha': 0.0001, 'hidden_layer_sizes': (50, 50, 50), 'learning_rate': 'adaptive', 'max_iter': 200, 'solver': 'sgd'}\n",
      "0.518 (+/-0.013) for {'activation': 'tanh', 'alpha': 0.0001, 'hidden_layer_sizes': (50, 50, 50), 'learning_rate': 'adaptive', 'max_iter': 500, 'solver': 'sgd'}\n",
      "0.512 (+/-0.026) for {'activation': 'tanh', 'alpha': 0.0001, 'hidden_layer_sizes': (10, 10), 'learning_rate': 'constant', 'max_iter': 100, 'solver': 'sgd'}\n",
      "0.505 (+/-0.032) for {'activation': 'tanh', 'alpha': 0.0001, 'hidden_layer_sizes': (10, 10), 'learning_rate': 'constant', 'max_iter': 200, 'solver': 'sgd'}\n",
      "0.523 (+/-0.022) for {'activation': 'tanh', 'alpha': 0.0001, 'hidden_layer_sizes': (10, 10), 'learning_rate': 'constant', 'max_iter': 500, 'solver': 'sgd'}\n",
      "0.500 (+/-0.001) for {'activation': 'tanh', 'alpha': 0.0001, 'hidden_layer_sizes': (10, 10), 'learning_rate': 'invscaling', 'max_iter': 100, 'solver': 'sgd'}\n",
      "0.500 (+/-0.001) for {'activation': 'tanh', 'alpha': 0.0001, 'hidden_layer_sizes': (10, 10), 'learning_rate': 'invscaling', 'max_iter': 200, 'solver': 'sgd'}\n",
      "0.500 (+/-0.000) for {'activation': 'tanh', 'alpha': 0.0001, 'hidden_layer_sizes': (10, 10), 'learning_rate': 'invscaling', 'max_iter': 500, 'solver': 'sgd'}\n",
      "0.507 (+/-0.021) for {'activation': 'tanh', 'alpha': 0.0001, 'hidden_layer_sizes': (10, 10), 'learning_rate': 'adaptive', 'max_iter': 100, 'solver': 'sgd'}\n",
      "0.510 (+/-0.021) for {'activation': 'tanh', 'alpha': 0.0001, 'hidden_layer_sizes': (10, 10), 'learning_rate': 'adaptive', 'max_iter': 200, 'solver': 'sgd'}\n",
      "0.518 (+/-0.027) for {'activation': 'tanh', 'alpha': 0.0001, 'hidden_layer_sizes': (10, 10), 'learning_rate': 'adaptive', 'max_iter': 500, 'solver': 'sgd'}\n",
      "0.515 (+/-0.008) for {'activation': 'tanh', 'alpha': 0.0001, 'hidden_layer_sizes': 100, 'learning_rate': 'constant', 'max_iter': 100, 'solver': 'sgd'}\n",
      "0.511 (+/-0.030) for {'activation': 'tanh', 'alpha': 0.0001, 'hidden_layer_sizes': 100, 'learning_rate': 'constant', 'max_iter': 200, 'solver': 'sgd'}\n",
      "0.511 (+/-0.023) for {'activation': 'tanh', 'alpha': 0.0001, 'hidden_layer_sizes': 100, 'learning_rate': 'constant', 'max_iter': 500, 'solver': 'sgd'}\n",
      "0.501 (+/-0.004) for {'activation': 'tanh', 'alpha': 0.0001, 'hidden_layer_sizes': 100, 'learning_rate': 'invscaling', 'max_iter': 100, 'solver': 'sgd'}\n",
      "0.505 (+/-0.013) for {'activation': 'tanh', 'alpha': 0.0001, 'hidden_layer_sizes': 100, 'learning_rate': 'invscaling', 'max_iter': 200, 'solver': 'sgd'}\n",
      "0.490 (+/-0.021) for {'activation': 'tanh', 'alpha': 0.0001, 'hidden_layer_sizes': 100, 'learning_rate': 'invscaling', 'max_iter': 500, 'solver': 'sgd'}\n",
      "0.510 (+/-0.018) for {'activation': 'tanh', 'alpha': 0.0001, 'hidden_layer_sizes': 100, 'learning_rate': 'adaptive', 'max_iter': 100, 'solver': 'sgd'}\n",
      "0.524 (+/-0.019) for {'activation': 'tanh', 'alpha': 0.0001, 'hidden_layer_sizes': 100, 'learning_rate': 'adaptive', 'max_iter': 200, 'solver': 'sgd'}\n",
      "0.509 (+/-0.035) for {'activation': 'tanh', 'alpha': 0.0001, 'hidden_layer_sizes': 100, 'learning_rate': 'adaptive', 'max_iter': 500, 'solver': 'sgd'}\n",
      "0.499 (+/-0.003) for {'activation': 'relu', 'alpha': 0.05, 'hidden_layer_sizes': (20, 20), 'learning_rate': 'constant', 'max_iter': 100, 'solver': 'sgd'}\n",
      "0.504 (+/-0.012) for {'activation': 'relu', 'alpha': 0.05, 'hidden_layer_sizes': (20, 20), 'learning_rate': 'constant', 'max_iter': 200, 'solver': 'sgd'}\n",
      "0.501 (+/-0.010) for {'activation': 'relu', 'alpha': 0.05, 'hidden_layer_sizes': (20, 20), 'learning_rate': 'constant', 'max_iter': 500, 'solver': 'sgd'}\n",
      "0.500 (+/-0.001) for {'activation': 'relu', 'alpha': 0.05, 'hidden_layer_sizes': (20, 20), 'learning_rate': 'invscaling', 'max_iter': 100, 'solver': 'sgd'}\n",
      "0.500 (+/-0.001) for {'activation': 'relu', 'alpha': 0.05, 'hidden_layer_sizes': (20, 20), 'learning_rate': 'invscaling', 'max_iter': 200, 'solver': 'sgd'}\n",
      "0.500 (+/-0.001) for {'activation': 'relu', 'alpha': 0.05, 'hidden_layer_sizes': (20, 20), 'learning_rate': 'invscaling', 'max_iter': 500, 'solver': 'sgd'}\n",
      "0.503 (+/-0.019) for {'activation': 'relu', 'alpha': 0.05, 'hidden_layer_sizes': (20, 20), 'learning_rate': 'adaptive', 'max_iter': 100, 'solver': 'sgd'}\n",
      "0.499 (+/-0.002) for {'activation': 'relu', 'alpha': 0.05, 'hidden_layer_sizes': (20, 20), 'learning_rate': 'adaptive', 'max_iter': 200, 'solver': 'sgd'}\n",
      "0.503 (+/-0.012) for {'activation': 'relu', 'alpha': 0.05, 'hidden_layer_sizes': (20, 20), 'learning_rate': 'adaptive', 'max_iter': 500, 'solver': 'sgd'}\n",
      "0.503 (+/-0.017) for {'activation': 'relu', 'alpha': 0.05, 'hidden_layer_sizes': (50, 50), 'learning_rate': 'constant', 'max_iter': 100, 'solver': 'sgd'}\n",
      "0.496 (+/-0.013) for {'activation': 'relu', 'alpha': 0.05, 'hidden_layer_sizes': (50, 50), 'learning_rate': 'constant', 'max_iter': 200, 'solver': 'sgd'}\n",
      "0.501 (+/-0.006) for {'activation': 'relu', 'alpha': 0.05, 'hidden_layer_sizes': (50, 50), 'learning_rate': 'constant', 'max_iter': 500, 'solver': 'sgd'}\n",
      "0.500 (+/-0.000) for {'activation': 'relu', 'alpha': 0.05, 'hidden_layer_sizes': (50, 50), 'learning_rate': 'invscaling', 'max_iter': 100, 'solver': 'sgd'}\n",
      "0.500 (+/-0.000) for {'activation': 'relu', 'alpha': 0.05, 'hidden_layer_sizes': (50, 50), 'learning_rate': 'invscaling', 'max_iter': 200, 'solver': 'sgd'}\n",
      "0.500 (+/-0.001) for {'activation': 'relu', 'alpha': 0.05, 'hidden_layer_sizes': (50, 50), 'learning_rate': 'invscaling', 'max_iter': 500, 'solver': 'sgd'}\n",
      "0.501 (+/-0.002) for {'activation': 'relu', 'alpha': 0.05, 'hidden_layer_sizes': (50, 50), 'learning_rate': 'adaptive', 'max_iter': 100, 'solver': 'sgd'}\n",
      "0.504 (+/-0.006) for {'activation': 'relu', 'alpha': 0.05, 'hidden_layer_sizes': (50, 50), 'learning_rate': 'adaptive', 'max_iter': 200, 'solver': 'sgd'}\n",
      "0.506 (+/-0.004) for {'activation': 'relu', 'alpha': 0.05, 'hidden_layer_sizes': (50, 50), 'learning_rate': 'adaptive', 'max_iter': 500, 'solver': 'sgd'}\n",
      "0.504 (+/-0.027) for {'activation': 'relu', 'alpha': 0.05, 'hidden_layer_sizes': (50, 50, 50), 'learning_rate': 'constant', 'max_iter': 100, 'solver': 'sgd'}\n",
      "0.507 (+/-0.023) for {'activation': 'relu', 'alpha': 0.05, 'hidden_layer_sizes': (50, 50, 50), 'learning_rate': 'constant', 'max_iter': 200, 'solver': 'sgd'}\n",
      "0.509 (+/-0.014) for {'activation': 'relu', 'alpha': 0.05, 'hidden_layer_sizes': (50, 50, 50), 'learning_rate': 'constant', 'max_iter': 500, 'solver': 'sgd'}\n",
      "0.500 (+/-0.000) for {'activation': 'relu', 'alpha': 0.05, 'hidden_layer_sizes': (50, 50, 50), 'learning_rate': 'invscaling', 'max_iter': 100, 'solver': 'sgd'}\n",
      "0.500 (+/-0.001) for {'activation': 'relu', 'alpha': 0.05, 'hidden_layer_sizes': (50, 50, 50), 'learning_rate': 'invscaling', 'max_iter': 200, 'solver': 'sgd'}\n",
      "0.500 (+/-0.000) for {'activation': 'relu', 'alpha': 0.05, 'hidden_layer_sizes': (50, 50, 50), 'learning_rate': 'invscaling', 'max_iter': 500, 'solver': 'sgd'}\n",
      "0.503 (+/-0.002) for {'activation': 'relu', 'alpha': 0.05, 'hidden_layer_sizes': (50, 50, 50), 'learning_rate': 'adaptive', 'max_iter': 100, 'solver': 'sgd'}\n",
      "0.490 (+/-0.038) for {'activation': 'relu', 'alpha': 0.05, 'hidden_layer_sizes': (50, 50, 50), 'learning_rate': 'adaptive', 'max_iter': 200, 'solver': 'sgd'}\n",
      "0.493 (+/-0.028) for {'activation': 'relu', 'alpha': 0.05, 'hidden_layer_sizes': (50, 50, 50), 'learning_rate': 'adaptive', 'max_iter': 500, 'solver': 'sgd'}\n",
      "0.511 (+/-0.032) for {'activation': 'relu', 'alpha': 0.05, 'hidden_layer_sizes': (10, 10), 'learning_rate': 'constant', 'max_iter': 100, 'solver': 'sgd'}\n",
      "0.503 (+/-0.007) for {'activation': 'relu', 'alpha': 0.05, 'hidden_layer_sizes': (10, 10), 'learning_rate': 'constant', 'max_iter': 200, 'solver': 'sgd'}\n",
      "0.498 (+/-0.005) for {'activation': 'relu', 'alpha': 0.05, 'hidden_layer_sizes': (10, 10), 'learning_rate': 'constant', 'max_iter': 500, 'solver': 'sgd'}\n",
      "0.500 (+/-0.001) for {'activation': 'relu', 'alpha': 0.05, 'hidden_layer_sizes': (10, 10), 'learning_rate': 'invscaling', 'max_iter': 100, 'solver': 'sgd'}\n",
      "0.500 (+/-0.000) for {'activation': 'relu', 'alpha': 0.05, 'hidden_layer_sizes': (10, 10), 'learning_rate': 'invscaling', 'max_iter': 200, 'solver': 'sgd'}\n",
      "0.500 (+/-0.001) for {'activation': 'relu', 'alpha': 0.05, 'hidden_layer_sizes': (10, 10), 'learning_rate': 'invscaling', 'max_iter': 500, 'solver': 'sgd'}\n",
      "0.513 (+/-0.022) for {'activation': 'relu', 'alpha': 0.05, 'hidden_layer_sizes': (10, 10), 'learning_rate': 'adaptive', 'max_iter': 100, 'solver': 'sgd'}\n",
      "0.500 (+/-0.001) for {'activation': 'relu', 'alpha': 0.05, 'hidden_layer_sizes': (10, 10), 'learning_rate': 'adaptive', 'max_iter': 200, 'solver': 'sgd'}\n",
      "0.515 (+/-0.014) for {'activation': 'relu', 'alpha': 0.05, 'hidden_layer_sizes': (10, 10), 'learning_rate': 'adaptive', 'max_iter': 500, 'solver': 'sgd'}\n",
      "0.501 (+/-0.004) for {'activation': 'relu', 'alpha': 0.05, 'hidden_layer_sizes': 100, 'learning_rate': 'constant', 'max_iter': 100, 'solver': 'sgd'}\n",
      "0.500 (+/-0.006) for {'activation': 'relu', 'alpha': 0.05, 'hidden_layer_sizes': 100, 'learning_rate': 'constant', 'max_iter': 200, 'solver': 'sgd'}\n",
      "0.500 (+/-0.007) for {'activation': 'relu', 'alpha': 0.05, 'hidden_layer_sizes': 100, 'learning_rate': 'constant', 'max_iter': 500, 'solver': 'sgd'}\n",
      "0.501 (+/-0.002) for {'activation': 'relu', 'alpha': 0.05, 'hidden_layer_sizes': 100, 'learning_rate': 'invscaling', 'max_iter': 100, 'solver': 'sgd'}\n",
      "0.501 (+/-0.004) for {'activation': 'relu', 'alpha': 0.05, 'hidden_layer_sizes': 100, 'learning_rate': 'invscaling', 'max_iter': 200, 'solver': 'sgd'}\n",
      "0.500 (+/-0.002) for {'activation': 'relu', 'alpha': 0.05, 'hidden_layer_sizes': 100, 'learning_rate': 'invscaling', 'max_iter': 500, 'solver': 'sgd'}\n",
      "0.504 (+/-0.025) for {'activation': 'relu', 'alpha': 0.05, 'hidden_layer_sizes': 100, 'learning_rate': 'adaptive', 'max_iter': 100, 'solver': 'sgd'}\n",
      "0.502 (+/-0.014) for {'activation': 'relu', 'alpha': 0.05, 'hidden_layer_sizes': 100, 'learning_rate': 'adaptive', 'max_iter': 200, 'solver': 'sgd'}\n",
      "0.494 (+/-0.025) for {'activation': 'relu', 'alpha': 0.05, 'hidden_layer_sizes': 100, 'learning_rate': 'adaptive', 'max_iter': 500, 'solver': 'sgd'}\n",
      "0.504 (+/-0.007) for {'activation': 'relu', 'alpha': 0.0001, 'hidden_layer_sizes': (20, 20), 'learning_rate': 'constant', 'max_iter': 100, 'solver': 'sgd'}\n",
      "0.510 (+/-0.039) for {'activation': 'relu', 'alpha': 0.0001, 'hidden_layer_sizes': (20, 20), 'learning_rate': 'constant', 'max_iter': 200, 'solver': 'sgd'}\n",
      "0.506 (+/-0.009) for {'activation': 'relu', 'alpha': 0.0001, 'hidden_layer_sizes': (20, 20), 'learning_rate': 'constant', 'max_iter': 500, 'solver': 'sgd'}\n",
      "0.500 (+/-0.001) for {'activation': 'relu', 'alpha': 0.0001, 'hidden_layer_sizes': (20, 20), 'learning_rate': 'invscaling', 'max_iter': 100, 'solver': 'sgd'}\n",
      "0.500 (+/-0.001) for {'activation': 'relu', 'alpha': 0.0001, 'hidden_layer_sizes': (20, 20), 'learning_rate': 'invscaling', 'max_iter': 200, 'solver': 'sgd'}\n",
      "0.500 (+/-0.000) for {'activation': 'relu', 'alpha': 0.0001, 'hidden_layer_sizes': (20, 20), 'learning_rate': 'invscaling', 'max_iter': 500, 'solver': 'sgd'}\n",
      "0.499 (+/-0.007) for {'activation': 'relu', 'alpha': 0.0001, 'hidden_layer_sizes': (20, 20), 'learning_rate': 'adaptive', 'max_iter': 100, 'solver': 'sgd'}\n",
      "0.502 (+/-0.006) for {'activation': 'relu', 'alpha': 0.0001, 'hidden_layer_sizes': (20, 20), 'learning_rate': 'adaptive', 'max_iter': 200, 'solver': 'sgd'}\n",
      "0.500 (+/-0.026) for {'activation': 'relu', 'alpha': 0.0001, 'hidden_layer_sizes': (20, 20), 'learning_rate': 'adaptive', 'max_iter': 500, 'solver': 'sgd'}\n",
      "0.510 (+/-0.013) for {'activation': 'relu', 'alpha': 0.0001, 'hidden_layer_sizes': (50, 50), 'learning_rate': 'constant', 'max_iter': 100, 'solver': 'sgd'}\n",
      "0.505 (+/-0.024) for {'activation': 'relu', 'alpha': 0.0001, 'hidden_layer_sizes': (50, 50), 'learning_rate': 'constant', 'max_iter': 200, 'solver': 'sgd'}\n",
      "0.502 (+/-0.005) for {'activation': 'relu', 'alpha': 0.0001, 'hidden_layer_sizes': (50, 50), 'learning_rate': 'constant', 'max_iter': 500, 'solver': 'sgd'}\n",
      "0.500 (+/-0.000) for {'activation': 'relu', 'alpha': 0.0001, 'hidden_layer_sizes': (50, 50), 'learning_rate': 'invscaling', 'max_iter': 100, 'solver': 'sgd'}\n",
      "0.500 (+/-0.001) for {'activation': 'relu', 'alpha': 0.0001, 'hidden_layer_sizes': (50, 50), 'learning_rate': 'invscaling', 'max_iter': 200, 'solver': 'sgd'}\n",
      "0.500 (+/-0.001) for {'activation': 'relu', 'alpha': 0.0001, 'hidden_layer_sizes': (50, 50), 'learning_rate': 'invscaling', 'max_iter': 500, 'solver': 'sgd'}\n",
      "0.508 (+/-0.006) for {'activation': 'relu', 'alpha': 0.0001, 'hidden_layer_sizes': (50, 50), 'learning_rate': 'adaptive', 'max_iter': 100, 'solver': 'sgd'}\n",
      "0.503 (+/-0.009) for {'activation': 'relu', 'alpha': 0.0001, 'hidden_layer_sizes': (50, 50), 'learning_rate': 'adaptive', 'max_iter': 200, 'solver': 'sgd'}\n",
      "0.508 (+/-0.007) for {'activation': 'relu', 'alpha': 0.0001, 'hidden_layer_sizes': (50, 50), 'learning_rate': 'adaptive', 'max_iter': 500, 'solver': 'sgd'}\n",
      "0.504 (+/-0.010) for {'activation': 'relu', 'alpha': 0.0001, 'hidden_layer_sizes': (50, 50, 50), 'learning_rate': 'constant', 'max_iter': 100, 'solver': 'sgd'}\n",
      "0.493 (+/-0.012) for {'activation': 'relu', 'alpha': 0.0001, 'hidden_layer_sizes': (50, 50, 50), 'learning_rate': 'constant', 'max_iter': 200, 'solver': 'sgd'}\n",
      "0.501 (+/-0.008) for {'activation': 'relu', 'alpha': 0.0001, 'hidden_layer_sizes': (50, 50, 50), 'learning_rate': 'constant', 'max_iter': 500, 'solver': 'sgd'}\n",
      "0.500 (+/-0.000) for {'activation': 'relu', 'alpha': 0.0001, 'hidden_layer_sizes': (50, 50, 50), 'learning_rate': 'invscaling', 'max_iter': 100, 'solver': 'sgd'}\n",
      "0.500 (+/-0.001) for {'activation': 'relu', 'alpha': 0.0001, 'hidden_layer_sizes': (50, 50, 50), 'learning_rate': 'invscaling', 'max_iter': 200, 'solver': 'sgd'}\n",
      "0.496 (+/-0.011) for {'activation': 'relu', 'alpha': 0.0001, 'hidden_layer_sizes': (50, 50, 50), 'learning_rate': 'invscaling', 'max_iter': 500, 'solver': 'sgd'}\n",
      "0.499 (+/-0.012) for {'activation': 'relu', 'alpha': 0.0001, 'hidden_layer_sizes': (50, 50, 50), 'learning_rate': 'adaptive', 'max_iter': 100, 'solver': 'sgd'}\n",
      "0.516 (+/-0.009) for {'activation': 'relu', 'alpha': 0.0001, 'hidden_layer_sizes': (50, 50, 50), 'learning_rate': 'adaptive', 'max_iter': 200, 'solver': 'sgd'}\n",
      "0.501 (+/-0.013) for {'activation': 'relu', 'alpha': 0.0001, 'hidden_layer_sizes': (50, 50, 50), 'learning_rate': 'adaptive', 'max_iter': 500, 'solver': 'sgd'}\n",
      "0.503 (+/-0.008) for {'activation': 'relu', 'alpha': 0.0001, 'hidden_layer_sizes': (10, 10), 'learning_rate': 'constant', 'max_iter': 100, 'solver': 'sgd'}\n",
      "0.505 (+/-0.013) for {'activation': 'relu', 'alpha': 0.0001, 'hidden_layer_sizes': (10, 10), 'learning_rate': 'constant', 'max_iter': 200, 'solver': 'sgd'}\n",
      "0.501 (+/-0.003) for {'activation': 'relu', 'alpha': 0.0001, 'hidden_layer_sizes': (10, 10), 'learning_rate': 'constant', 'max_iter': 500, 'solver': 'sgd'}\n",
      "0.500 (+/-0.001) for {'activation': 'relu', 'alpha': 0.0001, 'hidden_layer_sizes': (10, 10), 'learning_rate': 'invscaling', 'max_iter': 100, 'solver': 'sgd'}\n",
      "0.500 (+/-0.001) for {'activation': 'relu', 'alpha': 0.0001, 'hidden_layer_sizes': (10, 10), 'learning_rate': 'invscaling', 'max_iter': 200, 'solver': 'sgd'}\n",
      "0.500 (+/-0.001) for {'activation': 'relu', 'alpha': 0.0001, 'hidden_layer_sizes': (10, 10), 'learning_rate': 'invscaling', 'max_iter': 500, 'solver': 'sgd'}\n",
      "0.509 (+/-0.017) for {'activation': 'relu', 'alpha': 0.0001, 'hidden_layer_sizes': (10, 10), 'learning_rate': 'adaptive', 'max_iter': 100, 'solver': 'sgd'}\n",
      "0.502 (+/-0.012) for {'activation': 'relu', 'alpha': 0.0001, 'hidden_layer_sizes': (10, 10), 'learning_rate': 'adaptive', 'max_iter': 200, 'solver': 'sgd'}\n",
      "0.508 (+/-0.013) for {'activation': 'relu', 'alpha': 0.0001, 'hidden_layer_sizes': (10, 10), 'learning_rate': 'adaptive', 'max_iter': 500, 'solver': 'sgd'}\n",
      "0.506 (+/-0.021) for {'activation': 'relu', 'alpha': 0.0001, 'hidden_layer_sizes': 100, 'learning_rate': 'constant', 'max_iter': 100, 'solver': 'sgd'}\n",
      "0.502 (+/-0.010) for {'activation': 'relu', 'alpha': 0.0001, 'hidden_layer_sizes': 100, 'learning_rate': 'constant', 'max_iter': 200, 'solver': 'sgd'}\n",
      "0.504 (+/-0.010) for {'activation': 'relu', 'alpha': 0.0001, 'hidden_layer_sizes': 100, 'learning_rate': 'constant', 'max_iter': 500, 'solver': 'sgd'}\n",
      "0.500 (+/-0.001) for {'activation': 'relu', 'alpha': 0.0001, 'hidden_layer_sizes': 100, 'learning_rate': 'invscaling', 'max_iter': 100, 'solver': 'sgd'}\n",
      "0.496 (+/-0.012) for {'activation': 'relu', 'alpha': 0.0001, 'hidden_layer_sizes': 100, 'learning_rate': 'invscaling', 'max_iter': 200, 'solver': 'sgd'}\n",
      "0.509 (+/-0.024) for {'activation': 'relu', 'alpha': 0.0001, 'hidden_layer_sizes': 100, 'learning_rate': 'invscaling', 'max_iter': 500, 'solver': 'sgd'}\n",
      "0.501 (+/-0.010) for {'activation': 'relu', 'alpha': 0.0001, 'hidden_layer_sizes': 100, 'learning_rate': 'adaptive', 'max_iter': 100, 'solver': 'sgd'}\n",
      "0.498 (+/-0.014) for {'activation': 'relu', 'alpha': 0.0001, 'hidden_layer_sizes': 100, 'learning_rate': 'adaptive', 'max_iter': 200, 'solver': 'sgd'}\n",
      "0.507 (+/-0.007) for {'activation': 'relu', 'alpha': 0.0001, 'hidden_layer_sizes': 100, 'learning_rate': 'adaptive', 'max_iter': 500, 'solver': 'sgd'}\n",
      "Results on the test set:\n",
      "              precision    recall  f1-score   support\n",
      "\n",
      "           0       0.61      0.70      0.65       473\n",
      "           1       0.42      0.34      0.37       311\n",
      "\n",
      "    accuracy                           0.55       784\n",
      "   macro avg       0.52      0.52      0.51       784\n",
      "weighted avg       0.54      0.55      0.54       784\n",
      "\n"
     ]
    }
   ],
   "source": [
    "mlp_tunning_for_graph = findMlp(Train_X_Tfidf, Test_X_Tfidf, Train_Y, Test_Y)"
   ]
  },
  {
   "cell_type": "code",
   "execution_count": 153,
   "metadata": {},
   "outputs": [
    {
     "data": {
      "text/plain": [
       "Text(0.5, 1.0, 'Accuracy obtained by each algorithm')"
      ]
     },
     "execution_count": 153,
     "metadata": {},
     "output_type": "execute_result"
    },
    {
     "data": {
      "image/png": "[encoded data removed]",
      "text/plain": [
       "<Figure size 432x288 with 1 Axes>"
      ]
     },
     "metadata": {},
     "output_type": "display_data"
    }
   ],
   "source": [
    "import matplotlib.patches as mpatches\n",
    "\n",
    "data = [\n",
    "            [svc_for_graph['accuracy'], perceptron_default_for_graph['accuracy'], mlp_default_for_graph['accuracy']],\n",
    "            [svc_tunning_for_graph['accuracy'], 0.1, mlp_tunning_for_graph['accuracy']]\n",
    "       ]\n",
    "\n",
    "X = np.arange(3)\n",
    "fig = plt.figure()\n",
    "ax = fig.add_axes([0,0,1,1])\n",
    "ax.bar(X + 0.0, data[0], color = '#3275a8', width = 0.25, tick_label=['SVM', 'Perceptron', 'MLP'])\n",
    "ax.bar(X + 0.25, data[1], color = '#bc5090', width = 0.25)\n",
    "# ax.bar(X + 0.50, data[2], color = '#ffa600', width = 0.25)\n",
    "\n",
    "default_patch = mpatches.Patch(color='#3275a8', label='Default Algorithm')\n",
    "tunned_patch = mpatches.Patch(color='#bc5090', label='GridSearch Tunned')\n",
    "# red_patch = mpatches.Patch(color='#003f5c', label='Original dataset')\n",
    "plt.legend(handles=[default_patch, tunned_patch], bbox_to_anchor=(1.05, 1), loc='upper left', borderaxespad=0.)\n",
    "plt.ylim(0.3, 0.7) # y limits\n",
    "\n",
    "plt.xlabel(\"Algorithm\")\n",
    "plt.ylabel(\"Accuracy\")\n",
    "plt.title(\"Accuracy obtained by each algorithm\")"
   ]
  },
  {
   "cell_type": "code",
   "execution_count": null,
   "metadata": {},
   "outputs": [],
   "source": []
  }
 ],
 "metadata": {
  "kernelspec": {
   "display_name": "Python 3",
   "language": "python",
   "name": "python3"
  },
  "language_info": {
   "codemirror_mode": {
    "name": "ipython",
    "version": 3
   },
   "file_extension": ".py",
   "mimetype": "text/x-python",
   "name": "python",
   "nbconvert_exporter": "python",
   "pygments_lexer": "ipython3",
   "version": "3.8.5"
  }
 },
 "nbformat": 4,
 "nbformat_minor": 4
}
